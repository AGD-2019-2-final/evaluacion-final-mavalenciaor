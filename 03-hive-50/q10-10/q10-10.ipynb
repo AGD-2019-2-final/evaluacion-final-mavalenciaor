{
 "cells": [
  {
   "cell_type": "code",
   "execution_count": 1,
   "metadata": {},
   "outputs": [],
   "source": [
    "%load_ext bigdata\n",
    "%hive_start\n",
    "%timeout 300"
   ]
  },
  {
   "cell_type": "code",
   "execution_count": 2,
   "metadata": {},
   "outputs": [
    {
     "name": "stdout",
     "output_type": "stream",
     "text": [
      "Found 4 items\n",
      "drwxrwx---   - root supergroup          0 2020-02-18 19:12 /tmp/hadoop-yarn\n",
      "drwxrwxrwx   - root supergroup          0 2020-02-18 19:19 /tmp/hive\n",
      "drwxrwxrwx   - root supergroup          0 2020-02-18 21:53 /tmp/output\n",
      "drwxr-xr-x   - root supergroup          0 2020-02-18 19:38 /tmp/wordcount\n",
      "mkdir: `/tmp/wordcount': File exists\n",
      "Found 4 items\n",
      "drwxrwx---   - root supergroup          0 2020-02-18 19:12 /tmp/hadoop-yarn\n",
      "drwxrwxrwx   - root supergroup          0 2020-02-18 19:19 /tmp/hive\n",
      "drwxrwxrwx   - root supergroup          0 2020-02-18 21:53 /tmp/output\n",
      "drwxr-xr-x   - root supergroup          0 2020-02-18 19:38 /tmp/wordcount\n"
     ]
    }
   ],
   "source": [
    "!hdfs dfs -ls /tmp\n",
    "!hdfs dfs -mkdir /tmp/wordcount\n",
    "!hdfs dfs -ls /tmp/\n"
   ]
  },
  {
   "cell_type": "code",
   "execution_count": 3,
   "metadata": {},
   "outputs": [],
   "source": [
    "!hdfs dfs -copyFromLocal data.tsv  /tmp/wordcount/"
   ]
  },
  {
   "cell_type": "code",
   "execution_count": 4,
   "metadata": {},
   "outputs": [
    {
     "name": "stdout",
     "output_type": "stream",
     "text": [
      "DROP TABLE IF EXISTS t0;\n",
      "OK\n",
      "Time taken: 27.255 seconds\n",
      "CREATE TABLE t0 (\n",
      "    c1 STRING,\n",
      "    c2 ARRAY<CHAR(1)>, \n",
      "    c3 MAP<STRING, INT>\n",
      "    )\n",
      "    ROW FORMAT DELIMITED \n",
      "        FIELDS TERMINATED BY '\\t'\n",
      "        COLLECTION ITEMS TERMINATED BY ','\n",
      "        MAP KEYS TERMINATED BY '#'\n",
      "        LINES TERMINATED BY '\\n';\n",
      "OK\n",
      "Time taken: 4.547 seconds\n",
      "LOAD DATA LOCAL INPATH 'data.tsv' INTO TABLE t0;\n",
      "Loading data to table default.t0\n",
      "OK\n",
      "Time taken: 4.03 seconds\n"
     ]
    }
   ],
   "source": [
    "%%hive\n",
    "DROP TABLE IF EXISTS t0;\n",
    "CREATE TABLE t0 (\n",
    "    c1 STRING,\n",
    "    c2 ARRAY<CHAR(1)>, \n",
    "    c3 MAP<STRING, INT>\n",
    "    )\n",
    "    ROW FORMAT DELIMITED \n",
    "        FIELDS TERMINATED BY '\\t'\n",
    "        COLLECTION ITEMS TERMINATED BY ','\n",
    "        MAP KEYS TERMINATED BY '#'\n",
    "        LINES TERMINATED BY '\\n';\n",
    "LOAD DATA LOCAL INPATH 'data.tsv' INTO TABLE t0;"
   ]
  },
  {
   "cell_type": "code",
   "execution_count": 7,
   "metadata": {},
   "outputs": [
    {
     "name": "stdout",
     "output_type": "stream",
     "text": [
      "DROP TABLE IF EXISTS cont_ks;\n",
      "OK\n",
      "Time taken: 0.023 seconds\n",
      "CREATE TABLE cont_ks AS\n",
      "SELECT a.k, COUNT(*)\n",
      "FROM\n",
      "(SELECT k\n",
      "FROM t0\n",
      "LATERAL VIEW explode(c3) tbl1 AS k, v) a\n",
      "GROUP BY a.k;\n",
      "WARNING: Hive-on-MR is deprecated in Hive 2 and may not be available in the future versions. Consider using a different execution engine (i.e. spark, tez) or using Hive 1.X releases.\n",
      "Query ID = root_20200218225444_14cfb35c-552e-4958-93a6-74c9e6bb8cb7\n",
      "Total jobs = 1\n",
      "Launching Job 1 out of 1\n",
      "Number of reduce tasks not specified. Estimated from input data size: 1\n",
      "In order to change the average load for a reducer (in bytes):\n",
      "  set hive.exec.reducers.bytes.per.reducer=<number>\n",
      "In order to limit the maximum number of reducers:\n",
      "  set hive.exec.reducers.max=<number>\n",
      "In order to set a constant number of reducers:\n",
      "  set mapreduce.job.reduces=<number>\n",
      "Starting Job = job_1582053079980_0032, Tracking URL = http://fbebe19f3edd:8088/proxy/application_1582053079980_0032/\n",
      "Kill Command = /usr/local/hadoop/bin/hadoop job  -kill job_1582053079980_0032\n",
      "Hadoop job information for Stage-1: number of mappers: 1; number of reducers: 1\n",
      "2020-02-18 22:55:01,562 Stage-1 map = 0%,  reduce = 0%\n",
      "2020-02-18 22:55:13,968 Stage-1 map = 100%,  reduce = 0%, Cumulative CPU 4.16 sec\n",
      "2020-02-18 22:55:28,684 Stage-1 map = 100%,  reduce = 100%, Cumulative CPU 9.67 sec\n",
      "MapReduce Total cumulative CPU time: 9 seconds 670 msec\n",
      "Ended Job = job_1582053079980_0032\n",
      "Moving data to directory hdfs://0.0.0.0:9000/user/hive/warehouse/cont_ks\n",
      "MapReduce Jobs Launched: \n",
      "Stage-Stage-1: Map: 1  Reduce: 1   Cumulative CPU: 9.67 sec   HDFS Read: 12338 HDFS Write: 141 SUCCESS\n",
      "Total MapReduce CPU Time Spent: 9 seconds 670 msec\n",
      "OK\n",
      "Time taken: 47.498 seconds\n"
     ]
    }
   ],
   "source": [
    "%%hive\n",
    "DROP TABLE IF EXISTS cont_ks;\n",
    "CREATE TABLE cont_ks AS\n",
    "SELECT a.k, COUNT(*)\n",
    "FROM\n",
    "(SELECT k\n",
    "FROM t0\n",
    "LATERAL VIEW explode(c3) tbl1 AS k, v) a\n",
    "GROUP BY a.k;"
   ]
  },
  {
   "cell_type": "code",
   "execution_count": 8,
   "metadata": {},
   "outputs": [
    {
     "name": "stdout",
     "output_type": "stream",
     "text": [
      "INSERT OVERWRITE DIRECTORY '/tmp/output'\n",
      "ROW FORMAT DELIMITED FIELDS TERMINATED BY ','\n",
      "SELECT * FROM cont_ks;\n",
      "WARNING: Hive-on-MR is deprecated in Hive 2 and may not be available in the future versions. Consider using a different execution engine (i.e. spark, tez) or using Hive 1.X releases.\n",
      "Query ID = root_20200218225532_339a4060-a088-4fa8-88ca-cafe2ec5bfda\n",
      "Total jobs = 3\n",
      "Launching Job 1 out of 3\n",
      "Number of reduce tasks is set to 0 since there's no reduce operator\n",
      "Starting Job = job_1582053079980_0033, Tracking URL = http://fbebe19f3edd:8088/proxy/application_1582053079980_0033/\n",
      "Kill Command = /usr/local/hadoop/bin/hadoop job  -kill job_1582053079980_0033\n",
      "Hadoop job information for Stage-1: number of mappers: 1; number of reducers: 0\n",
      "2020-02-18 22:55:51,408 Stage-1 map = 0%,  reduce = 0%\n",
      "2020-02-18 22:56:02,479 Stage-1 map = 100%,  reduce = 0%, Cumulative CPU 3.63 sec\n",
      "MapReduce Total cumulative CPU time: 3 seconds 630 msec\n",
      "Ended Job = job_1582053079980_0033\n",
      "Stage-3 is selected by condition resolver.\n",
      "Stage-2 is filtered out by condition resolver.\n",
      "Stage-4 is filtered out by condition resolver.\n",
      "Moving data to directory hdfs://0.0.0.0:9000/tmp/output/.hive-staging_hive_2020-02-18_22-55-32_080_807509347934981958-1/-ext-10000\n",
      "Moving data to directory /tmp/output\n",
      "MapReduce Jobs Launched: \n",
      "Stage-Stage-1: Map: 1   Cumulative CPU: 3.63 sec   HDFS Read: 3377 HDFS Write: 70 SUCCESS\n",
      "Total MapReduce CPU Time Spent: 3 seconds 630 msec\n",
      "OK\n",
      "Time taken: 31.924 seconds\n"
     ]
    }
   ],
   "source": [
    "%%hive\n",
    "INSERT OVERWRITE DIRECTORY '/tmp/output'\n",
    "ROW FORMAT DELIMITED FIELDS TERMINATED BY ','\n",
    "SELECT * FROM cont_ks;"
   ]
  },
  {
   "cell_type": "code",
   "execution_count": 9,
   "metadata": {},
   "outputs": [
    {
     "name": "stdout",
     "output_type": "stream",
     "text": [
      "SLF4J: Class path contains multiple SLF4J bindings.\n",
      "SLF4J: Found binding in [jar:file:/usr/local/hive/lib/log4j-slf4j-impl-2.6.2.jar!/org/slf4j/impl/StaticLoggerBinder.class]\n",
      "SLF4J: Found binding in [jar:file:/usr/local/hadoop/share/hadoop/common/lib/slf4j-log4j12-1.7.10.jar!/org/slf4j/impl/StaticLoggerBinder.class]\n",
      "SLF4J: See http://www.slf4j.org/codes.html#multiple_bindings for an explanation.\n",
      "SLF4J: Actual binding is of type [org.apache.logging.slf4j.Log4jLoggerFactory]\n",
      "File: output.hql is not a file.\n"
     ]
    }
   ],
   "source": [
    "!hive -S -e 'source output.hql'"
   ]
  },
  {
   "cell_type": "code",
   "execution_count": 10,
   "metadata": {},
   "outputs": [
    {
     "name": "stdout",
     "output_type": "stream",
     "text": [
      "output/000000_0\n"
     ]
    }
   ],
   "source": [
    "!hadoop fs -copyToLocal /tmp/output output\n",
    "!ls output/*"
   ]
  },
  {
   "cell_type": "code",
   "execution_count": 11,
   "metadata": {},
   "outputs": [
    {
     "name": "stdout",
     "output_type": "stream",
     "text": [
      "aaa,13\n",
      "bbb,16\n",
      "ccc,23\n",
      "ddd,23\n",
      "eee,15\n",
      "fff,20\n",
      "ggg,13\n",
      "hhh,16\n",
      "iii,18\n",
      "jjj,18\n"
     ]
    }
   ],
   "source": [
    "!cat output/000000_0"
   ]
  },
  {
   "cell_type": "code",
   "execution_count": null,
   "metadata": {},
   "outputs": [],
   "source": []
  }
 ],
 "metadata": {
  "kernelspec": {
   "display_name": "Python 3",
   "language": "python",
   "name": "python3"
  },
  "language_info": {
   "codemirror_mode": {
    "name": "ipython",
    "version": 3
   },
   "file_extension": ".py",
   "mimetype": "text/x-python",
   "name": "python",
   "nbconvert_exporter": "python",
   "pygments_lexer": "ipython3",
   "version": "3.6.9"
  }
 },
 "nbformat": 4,
 "nbformat_minor": 4
}
