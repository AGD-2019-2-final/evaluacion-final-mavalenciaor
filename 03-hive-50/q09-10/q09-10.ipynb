{
 "cells": [
  {
   "cell_type": "code",
   "execution_count": 1,
   "metadata": {},
   "outputs": [],
   "source": [
    "%load_ext bigdata\n",
    "%hive_start\n",
    "%timeout 300"
   ]
  },
  {
   "cell_type": "code",
   "execution_count": 2,
   "metadata": {},
   "outputs": [
    {
     "name": "stdout",
     "output_type": "stream",
     "text": [
      "Found 4 items\n",
      "drwxrwx---   - root supergroup          0 2020-02-18 19:12 /tmp/hadoop-yarn\n",
      "drwxrwxrwx   - root supergroup          0 2020-02-18 19:19 /tmp/hive\n",
      "drwxrwxrwx   - root supergroup          0 2020-02-18 21:33 /tmp/output\n",
      "drwxr-xr-x   - root supergroup          0 2020-02-18 19:38 /tmp/wordcount\n",
      "mkdir: `/tmp/wordcount': File exists\n",
      "Found 4 items\n",
      "drwxrwx---   - root supergroup          0 2020-02-18 19:12 /tmp/hadoop-yarn\n",
      "drwxrwxrwx   - root supergroup          0 2020-02-18 19:19 /tmp/hive\n",
      "drwxrwxrwx   - root supergroup          0 2020-02-18 21:33 /tmp/output\n",
      "drwxr-xr-x   - root supergroup          0 2020-02-18 19:38 /tmp/wordcount\n"
     ]
    }
   ],
   "source": [
    "!hdfs dfs -ls /tmp\n",
    "!hdfs dfs -mkdir /tmp/wordcount\n",
    "!hdfs dfs -ls /tmp/"
   ]
  },
  {
   "cell_type": "code",
   "execution_count": 3,
   "metadata": {},
   "outputs": [
    {
     "name": "stdout",
     "output_type": "stream",
     "text": [
      "copyFromLocal: `/tmp/wordcount/tbl0.csv': File exists\n",
      "copyFromLocal: `/tmp/wordcount/tbl1.csv': File exists\n"
     ]
    }
   ],
   "source": [
    "!hdfs dfs -copyFromLocal *.csv  /tmp/wordcount/"
   ]
  },
  {
   "cell_type": "code",
   "execution_count": 4,
   "metadata": {},
   "outputs": [
    {
     "name": "stdout",
     "output_type": "stream",
     "text": [
      "DROP TABLE IF EXISTS tbl0;\n",
      "OK\n",
      "Time taken: 13.734 seconds\n",
      "DROP TABLE IF EXISTS tbl1;\n",
      "OK\n",
      "Time taken: 0.191 seconds\n"
     ]
    }
   ],
   "source": [
    "%%hive\n",
    "\n",
    "DROP TABLE IF EXISTS tbl0;\n",
    "DROP TABLE IF EXISTS tbl1;"
   ]
  },
  {
   "cell_type": "code",
   "execution_count": 5,
   "metadata": {},
   "outputs": [
    {
     "name": "stdout",
     "output_type": "stream",
     "text": [
      "CREATE TABLE tbl0 (\n",
      "    c1 INT,\n",
      "    c2 STRING,\n",
      "    c3 INT,\n",
      "    c4 DATE,\n",
      "    c5 ARRAY<CHAR(1)>, \n",
      "    c6 MAP<STRING, INT>\n",
      ")\n",
      "ROW FORMAT DELIMITED \n",
      "FIELDS TERMINATED BY ','\n",
      "COLLECTION ITEMS TERMINATED BY ':'\n",
      "MAP KEYS TERMINATED BY '#'\n",
      "LINES TERMINATED BY '\\n';\n",
      "OK\n",
      "Time taken: 0.947 seconds\n",
      "LOAD DATA LOCAL INPATH 'tbl0.csv' INTO TABLE tbl0;\n",
      "Loading data to table default.tbl0\n",
      "OK\n",
      "Time taken: 1.54 seconds\n"
     ]
    }
   ],
   "source": [
    "%%hive\n",
    "\n",
    "CREATE TABLE tbl0 (\n",
    "    c1 INT,\n",
    "    c2 STRING,\n",
    "    c3 INT,\n",
    "    c4 DATE,\n",
    "    c5 ARRAY<CHAR(1)>, \n",
    "    c6 MAP<STRING, INT>\n",
    ")\n",
    "ROW FORMAT DELIMITED \n",
    "FIELDS TERMINATED BY ','\n",
    "COLLECTION ITEMS TERMINATED BY ':'\n",
    "MAP KEYS TERMINATED BY '#'\n",
    "LINES TERMINATED BY '\\n';\n",
    "LOAD DATA LOCAL INPATH 'tbl0.csv' INTO TABLE tbl0;"
   ]
  },
  {
   "cell_type": "code",
   "execution_count": 6,
   "metadata": {},
   "outputs": [
    {
     "name": "stdout",
     "output_type": "stream",
     "text": [
      "CREATE TABLE tbl1 (\n",
      "    c1 INT,\n",
      "    c2 INT,\n",
      "    c3 STRING,\n",
      "    c4 MAP<STRING, INT>\n",
      ")\n",
      "ROW FORMAT DELIMITED \n",
      "FIELDS TERMINATED BY ','\n",
      "COLLECTION ITEMS TERMINATED BY ':'\n",
      "MAP KEYS TERMINATED BY '#'\n",
      "LINES TERMINATED BY '\\n';\n",
      "OK\n",
      "Time taken: 0.098 seconds\n",
      "LOAD DATA LOCAL INPATH 'tbl1.csv' INTO TABLE tbl1;\n",
      "Loading data to table default.tbl1\n",
      "OK\n",
      "Time taken: 0.979 seconds\n"
     ]
    }
   ],
   "source": [
    "%%hive\n",
    "\n",
    "CREATE TABLE tbl1 (\n",
    "    c1 INT,\n",
    "    c2 INT,\n",
    "    c3 STRING,\n",
    "    c4 MAP<STRING, INT>\n",
    ")\n",
    "ROW FORMAT DELIMITED \n",
    "FIELDS TERMINATED BY ','\n",
    "COLLECTION ITEMS TERMINATED BY ':'\n",
    "MAP KEYS TERMINATED BY '#'\n",
    "LINES TERMINATED BY '\\n';\n",
    "LOAD DATA LOCAL INPATH 'tbl1.csv' INTO TABLE tbl1;"
   ]
  },
  {
   "cell_type": "code",
   "execution_count": 7,
   "metadata": {},
   "outputs": [
    {
     "name": "stdout",
     "output_type": "stream",
     "text": [
      "SELECT c1, c2\n",
      "FROM tbl0;\n",
      "OK\n",
      "1\tD\n",
      "2\tC\n",
      "3\tD\n",
      "4\tD\n",
      "5\tC\n",
      "6\tA\n",
      "7\tB\n",
      "8\tC\n",
      "9\tB\n",
      "10\tB\n",
      "Time taken: 1.78 seconds, Fetched: 10 row(s)\n"
     ]
    }
   ],
   "source": [
    "%%hive\n",
    "SELECT c1, c2\n",
    "FROM tbl0;"
   ]
  },
  {
   "cell_type": "code",
   "execution_count": 11,
   "metadata": {},
   "outputs": [
    {
     "name": "stdout",
     "output_type": "stream",
     "text": [
      "SELECT c1, k, v\n",
      "FROM tbl1\n",
      "LATERAL VIEW explode(c4) tbl1 AS k, v;\n",
      "OK\n",
      "1\tA\t0\n",
      "1\tB\t4\n",
      "1\tC\t1\n",
      "1\tD\t3\n",
      "1\tE\t5\n",
      "2\tA\t4\n",
      "2\tB\t1\n",
      "2\tC\t0\n",
      "2\tD\t5\n",
      "2\tE\t2\n",
      "3\tA\t5\n",
      "3\tB\t4\n",
      "3\tC\t3\n",
      "3\tD\t1\n",
      "3\tE\t0\n",
      "4\tA\t2\n",
      "4\tB\t4\n",
      "4\tC\t3\n",
      "4\tD\t5\n",
      "4\tE\t1\n",
      "5\tA\t4\n",
      "5\tB\t0\n",
      "5\tC\t2\n",
      "5\tD\t5\n",
      "5\tE\t3\n",
      "6\tA\t4\n",
      "6\tB\t5\n",
      "6\tC\t1\n",
      "6\tD\t2\n",
      "6\tE\t3\n",
      "7\tA\t0\n",
      "7\tB\t5\n",
      "7\tC\t2\n",
      "7\tD\t4\n",
      "7\tE\t3\n",
      "8\tA\t4\n",
      "8\tB\t2\n",
      "8\tC\t5\n",
      "8\tD\t3\n",
      "8\tE\t0\n",
      "9\tA\t1\n",
      "9\tB\t4\n",
      "9\tC\t2\n",
      "9\tD\t5\n",
      "9\tE\t3\n",
      "10\tA\t2\n",
      "10\tB\t3\n",
      "10\tC\t4\n",
      "10\tD\t1\n",
      "10\tE\t0\n",
      "Time taken: 0.068 seconds, Fetched: 50 row(s)\n"
     ]
    }
   ],
   "source": [
    "%%hive\n",
    "SELECT c1, k, v\n",
    "FROM tbl1\n",
    "LATERAL VIEW explode(c4) tbl1 AS k, v;"
   ]
  },
  {
   "cell_type": "code",
   "execution_count": 15,
   "metadata": {},
   "outputs": [
    {
     "name": "stdout",
     "output_type": "stream",
     "text": [
      "DROP TABLE IF EXISTS joined_kv;\n",
      "OK\n",
      "Time taken: 0.013 seconds\n",
      "CREATE TABLE joined_kv AS\n",
      "(SELECT a.c1, a.c2, b.v\n",
      "FROM\n",
      "(SELECT c1, c2\n",
      "FROM tbl0) a LEFT JOIN\n",
      "(SELECT c1, k, v\n",
      "FROM tbl1\n",
      "LATERAL VIEW explode(c4) tbl1 AS k, v) b\n",
      "ON (a.c1 = b.c1 AND a.c2 = b.k));\n",
      "WARNING: Hive-on-MR is deprecated in Hive 2 and may not be available in the future versions. Consider using a different execution engine (i.e. spark, tez) or using Hive 1.X releases.\n",
      "Query ID = root_20200218215237_09ca26c0-866f-4789-a403-787826701c49\n",
      "Total jobs = 1\n",
      "SLF4J: Class path contains multiple SLF4J bindings.\n",
      "SLF4J: Found binding in [jar:file:/usr/local/hive/lib/log4j-slf4j-impl-2.6.2.jar!/org/slf4j/impl/StaticLoggerBinder.class]\n",
      "SLF4J: Found binding in [jar:file:/usr/local/hadoop/share/hadoop/common/lib/slf4j-log4j12-1.7.10.jar!/org/slf4j/impl/StaticLoggerBinder.class]\n",
      "SLF4J: See http://www.slf4j.org/codes.html#multiple_bindings for an explanation.\n",
      "SLF4J: Actual binding is of type [org.apache.logging.slf4j.Log4jLoggerFactory]\n",
      "2020-02-18 21:52:46\tStarting to launch local task to process map join;\tmaximum memory = 477626368\n",
      "2020-02-18 21:52:48\tDump the side-table for tag: 1 with group count: 50 into file: file:/tmp/root/5e73e8d3-d748-4b83-ab44-29cc7e98fb54/hive_2020-02-18_21-52-37_164_3028490264812884780-1/-local-10003/HashTable-Stage-4/MapJoin-mapfile21--.hashtable\n",
      "2020-02-18 21:52:48\tUploaded 1 File to: file:/tmp/root/5e73e8d3-d748-4b83-ab44-29cc7e98fb54/hive_2020-02-18_21-52-37_164_3028490264812884780-1/-local-10003/HashTable-Stage-4/MapJoin-mapfile21--.hashtable (1365 bytes)\n",
      "2020-02-18 21:52:48\tEnd of local task; Time Taken: 2.315 sec.\n",
      "Execution completed successfully\n",
      "MapredLocal task succeeded\n",
      "Launching Job 1 out of 1\n",
      "Number of reduce tasks is set to 0 since there's no reduce operator\n",
      "Starting Job = job_1582053079980_0029, Tracking URL = http://fbebe19f3edd:8088/proxy/application_1582053079980_0029/\n",
      "Kill Command = /usr/local/hadoop/bin/hadoop job  -kill job_1582053079980_0029\n",
      "Hadoop job information for Stage-4: number of mappers: 1; number of reducers: 0\n",
      "2020-02-18 21:52:58,065 Stage-4 map = 0%,  reduce = 0%\n",
      "2020-02-18 21:53:05,084 Stage-4 map = 100%,  reduce = 0%, Cumulative CPU 2.68 sec\n",
      "MapReduce Total cumulative CPU time: 2 seconds 680 msec\n",
      "Ended Job = job_1582053079980_0029\n",
      "Moving data to directory hdfs://0.0.0.0:9000/user/hive/warehouse/joined_kv\n",
      "MapReduce Jobs Launched: \n",
      "Stage-Stage-4: Map: 1   Cumulative CPU: 2.68 sec   HDFS Read: 6768 HDFS Write: 134 SUCCESS\n",
      "Total MapReduce CPU Time Spent: 2 seconds 680 msec\n",
      "OK\n",
      "Time taken: 29.735 seconds\n"
     ]
    }
   ],
   "source": [
    "%%hive\n",
    "DROP TABLE IF EXISTS joined_kv;\n",
    "CREATE TABLE joined_kv AS\n",
    "(SELECT a.c1, a.c2, b.v\n",
    "FROM\n",
    "(SELECT c1, c2\n",
    "FROM tbl0) a LEFT JOIN\n",
    "(SELECT c1, k, v\n",
    "FROM tbl1\n",
    "LATERAL VIEW explode(c4) tbl1 AS k, v) b\n",
    "ON (a.c1 = b.c1 AND a.c2 = b.k));"
   ]
  },
  {
   "cell_type": "code",
   "execution_count": 16,
   "metadata": {},
   "outputs": [
    {
     "name": "stdout",
     "output_type": "stream",
     "text": [
      "INSERT OVERWRITE DIRECTORY '/tmp/output'\n",
      "ROW FORMAT DELIMITED FIELDS TERMINATED BY ','\n",
      "SELECT * FROM joined_kv;\n",
      "WARNING: Hive-on-MR is deprecated in Hive 2 and may not be available in the future versions. Consider using a different execution engine (i.e. spark, tez) or using Hive 1.X releases.\n",
      "Query ID = root_20200218215314_a215bca6-05c0-4921-ac78-a4fea1b9efd2\n",
      "Total jobs = 3\n",
      "Launching Job 1 out of 3\n",
      "Number of reduce tasks is set to 0 since there's no reduce operator\n",
      "Starting Job = job_1582053079980_0030, Tracking URL = http://fbebe19f3edd:8088/proxy/application_1582053079980_0030/\n",
      "Kill Command = /usr/local/hadoop/bin/hadoop job  -kill job_1582053079980_0030\n",
      "Hadoop job information for Stage-1: number of mappers: 1; number of reducers: 0\n",
      "2020-02-18 21:53:22,215 Stage-1 map = 0%,  reduce = 0%\n",
      "2020-02-18 21:53:28,041 Stage-1 map = 100%,  reduce = 0%, Cumulative CPU 1.8 sec\n",
      "MapReduce Total cumulative CPU time: 1 seconds 800 msec\n",
      "Ended Job = job_1582053079980_0030\n",
      "Stage-3 is selected by condition resolver.\n",
      "Stage-2 is filtered out by condition resolver.\n",
      "Stage-4 is filtered out by condition resolver.\n",
      "Moving data to directory hdfs://0.0.0.0:9000/tmp/output/.hive-staging_hive_2020-02-18_21-53-14_102_7355781816394822355-1/-ext-10000\n",
      "Moving data to directory /tmp/output\n",
      "MapReduce Jobs Launched: \n",
      "Stage-Stage-1: Map: 1   Cumulative CPU: 1.8 sec   HDFS Read: 3495 HDFS Write: 61 SUCCESS\n",
      "Total MapReduce CPU Time Spent: 1 seconds 800 msec\n",
      "OK\n",
      "Time taken: 15.136 seconds\n"
     ]
    }
   ],
   "source": [
    "%%hive\n",
    "INSERT OVERWRITE DIRECTORY '/tmp/output'\n",
    "ROW FORMAT DELIMITED FIELDS TERMINATED BY ','\n",
    "SELECT * FROM joined_kv;"
   ]
  },
  {
   "cell_type": "code",
   "execution_count": 17,
   "metadata": {},
   "outputs": [
    {
     "name": "stdout",
     "output_type": "stream",
     "text": [
      "SLF4J: Class path contains multiple SLF4J bindings.\n",
      "SLF4J: Found binding in [jar:file:/usr/local/hive/lib/log4j-slf4j-impl-2.6.2.jar!/org/slf4j/impl/StaticLoggerBinder.class]\n",
      "SLF4J: Found binding in [jar:file:/usr/local/hadoop/share/hadoop/common/lib/slf4j-log4j12-1.7.10.jar!/org/slf4j/impl/StaticLoggerBinder.class]\n",
      "SLF4J: See http://www.slf4j.org/codes.html#multiple_bindings for an explanation.\n",
      "SLF4J: Actual binding is of type [org.apache.logging.slf4j.Log4jLoggerFactory]\n",
      "File: output.hql is not a file.\n"
     ]
    }
   ],
   "source": [
    "!hive -S -e 'source output.hql'"
   ]
  },
  {
   "cell_type": "code",
   "execution_count": 18,
   "metadata": {},
   "outputs": [
    {
     "name": "stdout",
     "output_type": "stream",
     "text": [
      "output/000000_0\n"
     ]
    }
   ],
   "source": [
    "!hadoop fs -copyToLocal /tmp/output output\n",
    "!ls output/*"
   ]
  },
  {
   "cell_type": "code",
   "execution_count": 19,
   "metadata": {},
   "outputs": [
    {
     "name": "stdout",
     "output_type": "stream",
     "text": [
      "1,D,3\n",
      "2,C,0\n",
      "3,D,1\n",
      "4,D,5\n",
      "5,C,2\n",
      "6,A,4\n",
      "7,B,5\n",
      "8,C,5\n",
      "9,B,4\n",
      "10,B,3\n"
     ]
    }
   ],
   "source": [
    "!cat output/000000_0"
   ]
  },
  {
   "cell_type": "code",
   "execution_count": null,
   "metadata": {},
   "outputs": [],
   "source": []
  }
 ],
 "metadata": {
  "kernelspec": {
   "display_name": "Python 3",
   "language": "python",
   "name": "python3"
  },
  "language_info": {
   "codemirror_mode": {
    "name": "ipython",
    "version": 3
   },
   "file_extension": ".py",
   "mimetype": "text/x-python",
   "name": "python",
   "nbconvert_exporter": "python",
   "pygments_lexer": "ipython3",
   "version": "3.6.9"
  }
 },
 "nbformat": 4,
 "nbformat_minor": 4
}
