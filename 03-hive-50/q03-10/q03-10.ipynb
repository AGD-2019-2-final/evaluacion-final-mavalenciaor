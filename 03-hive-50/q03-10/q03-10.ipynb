{
 "cells": [
  {
   "cell_type": "code",
   "execution_count": 1,
   "metadata": {},
   "outputs": [],
   "source": [
    "%load_ext bigdata\n",
    "%hive_start\n",
    "%timeout 300"
   ]
  },
  {
   "cell_type": "code",
   "execution_count": 2,
   "metadata": {},
   "outputs": [
    {
     "name": "stdout",
     "output_type": "stream",
     "text": [
      "Found 2 items\n",
      "drwxrwx---   - root supergroup          0 2020-02-18 19:12 /tmp/hadoop-yarn\n",
      "drwxrwxrwx   - root supergroup          0 2020-02-18 19:19 /tmp/hive\n",
      "Found 3 items\n",
      "drwxrwx---   - root supergroup          0 2020-02-18 19:12 /tmp/hadoop-yarn\n",
      "drwxrwxrwx   - root supergroup          0 2020-02-18 19:19 /tmp/hive\n",
      "drwxr-xr-x   - root supergroup          0 2020-02-18 19:19 /tmp/wordcount\n"
     ]
    }
   ],
   "source": [
    "!hdfs dfs -ls /tmp\n",
    "!hdfs dfs -mkdir /tmp/wordcount\n",
    "!hdfs dfs -ls /tmp/"
   ]
  },
  {
   "cell_type": "code",
   "execution_count": 3,
   "metadata": {},
   "outputs": [],
   "source": [
    "!hdfs dfs -copyFromLocal data.tsv  /tmp/wordcount/"
   ]
  },
  {
   "cell_type": "code",
   "execution_count": 4,
   "metadata": {},
   "outputs": [
    {
     "name": "stdout",
     "output_type": "stream",
     "text": [
      "DROP TABLE IF EXISTS data;\n",
      "OK\n",
      "Time taken: 32.558 seconds\n",
      "DROP TABLE IF EXISTS smallest_values;\n",
      "OK\n",
      "Time taken: 0.015 seconds\n"
     ]
    }
   ],
   "source": [
    "%%hive\n",
    "\n",
    "DROP TABLE IF EXISTS data;\n",
    "DROP TABLE IF EXISTS smallest_values;"
   ]
  },
  {
   "cell_type": "code",
   "execution_count": 5,
   "metadata": {},
   "outputs": [
    {
     "name": "stdout",
     "output_type": "stream",
     "text": [
      "CREATE TABLE data (letter STRING, dat STRING, numb INT)\n",
      "ROW FORMAT DELIMITED\n",
      "FIELDS TERMINATED BY '\\t';\n",
      "OK\n",
      "Time taken: 6.806 seconds\n",
      "LOAD DATA INPATH \"/tmp/wordcount/\" OVERWRITE INTO TABLE data;\n",
      "Loading data to table default.data\n",
      "OK\n",
      "Time taken: 2.05 seconds\n"
     ]
    }
   ],
   "source": [
    "%%hive\n",
    "\n",
    "CREATE TABLE data (letter STRING, dat STRING, numb INT)\n",
    "ROW FORMAT DELIMITED\n",
    "FIELDS TERMINATED BY '\\t';\n",
    "LOAD DATA INPATH \"/tmp/wordcount/\" OVERWRITE INTO TABLE data;"
   ]
  },
  {
   "cell_type": "code",
   "execution_count": 7,
   "metadata": {},
   "outputs": [
    {
     "name": "stdout",
     "output_type": "stream",
     "text": [
      "CREATE TABLE smallest_values AS\n",
      "(SELECT DISTINCT numb FROM data ORDER BY numb ASC LIMIT 5);\n",
      "WARNING: Hive-on-MR is deprecated in Hive 2 and may not be available in the future versions. Consider using a different execution engine (i.e. spark, tez) or using Hive 1.X releases.\n",
      "Query ID = root_20200218192324_ffa0a221-9b31-44fc-bc7e-50ba2704dbb8\n",
      "Total jobs = 2\n",
      "Launching Job 1 out of 2\n",
      "Number of reduce tasks not specified. Estimated from input data size: 1\n",
      "In order to change the average load for a reducer (in bytes):\n",
      "  set hive.exec.reducers.bytes.per.reducer=<number>\n",
      "In order to limit the maximum number of reducers:\n",
      "  set hive.exec.reducers.max=<number>\n",
      "In order to set a constant number of reducers:\n",
      "  set mapreduce.job.reduces=<number>\n",
      "Starting Job = job_1582053079980_0003, Tracking URL = http://fbebe19f3edd:8088/proxy/application_1582053079980_0003/\n",
      "Kill Command = /usr/local/hadoop/bin/hadoop job  -kill job_1582053079980_0003\n",
      "Hadoop job information for Stage-1: number of mappers: 1; number of reducers: 1\n",
      "2020-02-18 19:23:33,570 Stage-1 map = 0%,  reduce = 0%\n",
      "2020-02-18 19:23:40,553 Stage-1 map = 100%,  reduce = 0%, Cumulative CPU 3.25 sec\n",
      "2020-02-18 19:23:48,488 Stage-1 map = 100%,  reduce = 100%, Cumulative CPU 5.03 sec\n",
      "MapReduce Total cumulative CPU time: 5 seconds 30 msec\n",
      "Ended Job = job_1582053079980_0003\n",
      "Launching Job 2 out of 2\n",
      "Number of reduce tasks determined at compile time: 1\n",
      "In order to change the average load for a reducer (in bytes):\n",
      "  set hive.exec.reducers.bytes.per.reducer=<number>\n",
      "In order to limit the maximum number of reducers:\n",
      "  set hive.exec.reducers.max=<number>\n",
      "In order to set a constant number of reducers:\n",
      "  set mapreduce.job.reduces=<number>\n",
      "Starting Job = job_1582053079980_0004, Tracking URL = http://fbebe19f3edd:8088/proxy/application_1582053079980_0004/\n",
      "Kill Command = /usr/local/hadoop/bin/hadoop job  -kill job_1582053079980_0004\n",
      "Hadoop job information for Stage-2: number of mappers: 1; number of reducers: 1\n",
      "2020-02-18 19:24:03,144 Stage-2 map = 0%,  reduce = 0%\n",
      "2020-02-18 19:24:08,895 Stage-2 map = 100%,  reduce = 0%, Cumulative CPU 1.55 sec\n",
      "2020-02-18 19:24:15,756 Stage-2 map = 100%,  reduce = 100%, Cumulative CPU 3.77 sec\n",
      "MapReduce Total cumulative CPU time: 3 seconds 770 msec\n",
      "Ended Job = job_1582053079980_0004\n",
      "Moving data to directory hdfs://0.0.0.0:9000/user/hive/warehouse/smallest_values\n",
      "MapReduce Jobs Launched: \n",
      "Stage-Stage-1: Map: 1  Reduce: 1   Cumulative CPU: 5.03 sec   HDFS Read: 7318 HDFS Write: 186 SUCCESS\n",
      "Stage-Stage-2: Map: 1  Reduce: 1   Cumulative CPU: 3.77 sec   HDFS Read: 4841 HDFS Write: 91 SUCCESS\n",
      "Total MapReduce CPU Time Spent: 8 seconds 800 msec\n",
      "OK\n",
      "Time taken: 54.523 seconds\n"
     ]
    }
   ],
   "source": [
    "%%hive\n",
    "CREATE TABLE smallest_values AS\n",
    "(SELECT DISTINCT numb FROM data ORDER BY numb ASC LIMIT 5);"
   ]
  },
  {
   "cell_type": "code",
   "execution_count": 8,
   "metadata": {},
   "outputs": [
    {
     "name": "stdout",
     "output_type": "stream",
     "text": [
      "INSERT OVERWRITE DIRECTORY '/tmp/output'\n",
      "ROW FORMAT DELIMITED FIELDS TERMINATED BY ','\n",
      "SELECT * FROM smallest_values;\n",
      "WARNING: Hive-on-MR is deprecated in Hive 2 and may not be available in the future versions. Consider using a different execution engine (i.e. spark, tez) or using Hive 1.X releases.\n",
      "Query ID = root_20200218192419_dcfddb0c-1289-4763-ac1b-7d813f2a321a\n",
      "Total jobs = 3\n",
      "Launching Job 1 out of 3\n",
      "Number of reduce tasks is set to 0 since there's no reduce operator\n",
      "Starting Job = job_1582053079980_0005, Tracking URL = http://fbebe19f3edd:8088/proxy/application_1582053079980_0005/\n",
      "Kill Command = /usr/local/hadoop/bin/hadoop job  -kill job_1582053079980_0005\n",
      "Hadoop job information for Stage-1: number of mappers: 1; number of reducers: 0\n",
      "2020-02-18 19:24:31,046 Stage-1 map = 0%,  reduce = 0%\n",
      "2020-02-18 19:24:36,701 Stage-1 map = 100%,  reduce = 0%, Cumulative CPU 2.3 sec\n",
      "MapReduce Total cumulative CPU time: 2 seconds 300 msec\n",
      "Ended Job = job_1582053079980_0005\n",
      "Stage-3 is selected by condition resolver.\n",
      "Stage-2 is filtered out by condition resolver.\n",
      "Stage-4 is filtered out by condition resolver.\n",
      "Moving data to directory hdfs://0.0.0.0:9000/tmp/output/.hive-staging_hive_2020-02-18_19-24-19_010_3213868355370621693-1/-ext-10000\n",
      "Moving data to directory /tmp/output\n",
      "MapReduce Jobs Launched: \n",
      "Stage-Stage-1: Map: 1   Cumulative CPU: 2.3 sec   HDFS Read: 3240 HDFS Write: 12 SUCCESS\n",
      "Total MapReduce CPU Time Spent: 2 seconds 300 msec\n",
      "OK\n",
      "Time taken: 20.098 seconds\n"
     ]
    }
   ],
   "source": [
    "%%hive\n",
    "INSERT OVERWRITE DIRECTORY '/tmp/output'\n",
    "ROW FORMAT DELIMITED FIELDS TERMINATED BY ','\n",
    "SELECT * FROM smallest_values;"
   ]
  },
  {
   "cell_type": "code",
   "execution_count": 9,
   "metadata": {},
   "outputs": [
    {
     "name": "stdout",
     "output_type": "stream",
     "text": [
      "SLF4J: Class path contains multiple SLF4J bindings.\n",
      "SLF4J: Found binding in [jar:file:/usr/local/hive/lib/log4j-slf4j-impl-2.6.2.jar!/org/slf4j/impl/StaticLoggerBinder.class]\n",
      "SLF4J: Found binding in [jar:file:/usr/local/hadoop/share/hadoop/common/lib/slf4j-log4j12-1.7.10.jar!/org/slf4j/impl/StaticLoggerBinder.class]\n",
      "SLF4J: See http://www.slf4j.org/codes.html#multiple_bindings for an explanation.\n",
      "SLF4J: Actual binding is of type [org.apache.logging.slf4j.Log4jLoggerFactory]\n",
      "File: output.hql is not a file.\n"
     ]
    }
   ],
   "source": [
    "!hive -S -e 'source output.hql'"
   ]
  },
  {
   "cell_type": "code",
   "execution_count": 10,
   "metadata": {},
   "outputs": [
    {
     "name": "stdout",
     "output_type": "stream",
     "text": [
      "5\n",
      "6\n",
      "7\n",
      "10\n",
      "11\n"
     ]
    }
   ],
   "source": [
    "!hdfs dfs -cat /tmp/output/000000_0 | head"
   ]
  },
  {
   "cell_type": "code",
   "execution_count": 11,
   "metadata": {},
   "outputs": [
    {
     "name": "stdout",
     "output_type": "stream",
     "text": [
      "output/000000_0\n"
     ]
    }
   ],
   "source": [
    "!hadoop fs -copyToLocal /tmp/output output\n",
    "!ls output/*"
   ]
  },
  {
   "cell_type": "code",
   "execution_count": 12,
   "metadata": {},
   "outputs": [
    {
     "name": "stdout",
     "output_type": "stream",
     "text": [
      "5\n",
      "6\n",
      "7\n",
      "10\n",
      "11\n"
     ]
    }
   ],
   "source": [
    "!cat output/000000_0"
   ]
  },
  {
   "cell_type": "code",
   "execution_count": null,
   "metadata": {},
   "outputs": [],
   "source": []
  }
 ],
 "metadata": {
  "kernelspec": {
   "display_name": "Python 3",
   "language": "python",
   "name": "python3"
  },
  "language_info": {
   "codemirror_mode": {
    "name": "ipython",
    "version": 3
   },
   "file_extension": ".py",
   "mimetype": "text/x-python",
   "name": "python",
   "nbconvert_exporter": "python",
   "pygments_lexer": "ipython3",
   "version": "3.6.9"
  }
 },
 "nbformat": 4,
 "nbformat_minor": 4
}
