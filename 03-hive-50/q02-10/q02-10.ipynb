{
 "cells": [
  {
   "cell_type": "code",
   "execution_count": 1,
   "metadata": {},
   "outputs": [],
   "source": [
    "%load_ext bigdata\n",
    "%hive_start\n",
    "%timeout 300"
   ]
  },
  {
   "cell_type": "code",
   "execution_count": 2,
   "metadata": {},
   "outputs": [
    {
     "name": "stdout",
     "output_type": "stream",
     "text": [
      "Found 3 items\n",
      "drwxrwx---   - root supergroup          0 2020-02-18 15:39 /tmp/hadoop-yarn\n",
      "drwxrwxrwx   - root supergroup          0 2020-02-18 15:49 /tmp/hive\n",
      "drwxrwxrwx   - root supergroup          0 2020-02-18 16:10 /tmp/output\n",
      "Found 4 items\n",
      "drwxrwx---   - root supergroup          0 2020-02-18 15:39 /tmp/hadoop-yarn\n",
      "drwxrwxrwx   - root supergroup          0 2020-02-18 15:49 /tmp/hive\n",
      "drwxrwxrwx   - root supergroup          0 2020-02-18 16:10 /tmp/output\n",
      "drwxr-xr-x   - root supergroup          0 2020-02-18 16:26 /tmp/wordcount\n"
     ]
    }
   ],
   "source": [
    "!hdfs dfs -ls /tmp\n",
    "!hdfs dfs -mkdir /tmp/wordcount\n",
    "!hdfs dfs -ls /tmp/"
   ]
  },
  {
   "cell_type": "code",
   "execution_count": 4,
   "metadata": {},
   "outputs": [],
   "source": [
    "!hdfs dfs -copyFromLocal data.tsv  /tmp/wordcount/"
   ]
  },
  {
   "cell_type": "code",
   "execution_count": 6,
   "metadata": {},
   "outputs": [
    {
     "name": "stdout",
     "output_type": "stream",
     "text": [
      "DROP TABLE IF EXISTS data;\n",
      "OK\n",
      "Time taken: 5.471 seconds\n",
      "DROP TABLE IF EXISTS sorted_data;\n",
      "OK\n",
      "Time taken: 0.045 seconds\n"
     ]
    }
   ],
   "source": [
    "%%hive\n",
    "\n",
    "DROP TABLE IF EXISTS data;\n",
    "DROP TABLE IF EXISTS sorted_data;"
   ]
  },
  {
   "cell_type": "code",
   "execution_count": 7,
   "metadata": {},
   "outputs": [
    {
     "name": "stdout",
     "output_type": "stream",
     "text": [
      "CREATE TABLE data (letter STRING, dat STRING, numb INT)\n",
      "ROW FORMAT DELIMITED\n",
      "FIELDS TERMINATED BY '\\t';\n",
      "OK\n",
      "Time taken: 1.98 seconds\n",
      "LOAD DATA INPATH \"/tmp/wordcount/\" OVERWRITE INTO TABLE data;\n",
      "Loading data to table default.data\n",
      "OK\n",
      "Time taken: 3.108 seconds\n"
     ]
    }
   ],
   "source": [
    "%%hive\n",
    "\n",
    "CREATE TABLE data (letter STRING, dat STRING, numb INT)\n",
    "ROW FORMAT DELIMITED\n",
    "FIELDS TERMINATED BY '\\t';\n",
    "LOAD DATA INPATH \"/tmp/wordcount/\" OVERWRITE INTO TABLE data;"
   ]
  },
  {
   "cell_type": "code",
   "execution_count": 11,
   "metadata": {},
   "outputs": [
    {
     "name": "stdout",
     "output_type": "stream",
     "text": [
      "CREATE TABLE sorted_data AS\n",
      "(SELECT * FROM data ORDER BY letter, numb);\n",
      "WARNING: Hive-on-MR is deprecated in Hive 2 and may not be available in the future versions. Consider using a different execution engine (i.e. spark, tez) or using Hive 1.X releases.\n",
      "Query ID = root_20200218163452_409a2a2a-8d1f-4a67-94a3-4a3c83a84741\n",
      "Total jobs = 1\n",
      "Launching Job 1 out of 1\n",
      "Number of reduce tasks determined at compile time: 1\n",
      "In order to change the average load for a reducer (in bytes):\n",
      "  set hive.exec.reducers.bytes.per.reducer=<number>\n",
      "In order to limit the maximum number of reducers:\n",
      "  set hive.exec.reducers.max=<number>\n",
      "In order to set a constant number of reducers:\n",
      "  set mapreduce.job.reduces=<number>\n",
      "Starting Job = job_1582040149898_0006, Tracking URL = http://900d27d24b85:8088/proxy/application_1582040149898_0006/\n",
      "Kill Command = /usr/local/hadoop/bin/hadoop job  -kill job_1582040149898_0006\n",
      "Hadoop job information for Stage-1: number of mappers: 1; number of reducers: 1\n",
      "2020-02-18 16:35:11,506 Stage-1 map = 0%,  reduce = 0%\n",
      "2020-02-18 16:35:24,013 Stage-1 map = 100%,  reduce = 0%, Cumulative CPU 4.76 sec\n",
      "2020-02-18 16:35:37,763 Stage-1 map = 100%,  reduce = 100%, Cumulative CPU 9.32 sec\n",
      "MapReduce Total cumulative CPU time: 9 seconds 320 msec\n",
      "Ended Job = job_1582040149898_0006\n",
      "Moving data to directory hdfs://0.0.0.0:9000/user/hive/warehouse/sorted_data\n",
      "MapReduce Jobs Launched: \n",
      "Stage-Stage-1: Map: 1  Reduce: 1   Cumulative CPU: 9.32 sec   HDFS Read: 7778 HDFS Write: 713 SUCCESS\n",
      "Total MapReduce CPU Time Spent: 9 seconds 320 msec\n",
      "OK\n",
      "Time taken: 51.008 seconds\n"
     ]
    }
   ],
   "source": [
    "%%hive\n",
    "CREATE TABLE sorted_data AS\n",
    "(SELECT * FROM data ORDER BY letter, numb);"
   ]
  },
  {
   "cell_type": "code",
   "execution_count": 12,
   "metadata": {},
   "outputs": [
    {
     "name": "stdout",
     "output_type": "stream",
     "text": [
      "INSERT OVERWRITE DIRECTORY '/tmp/output'\n",
      "ROW FORMAT DELIMITED FIELDS TERMINATED BY ','\n",
      "SELECT * FROM sorted_data;\n",
      "WARNING: Hive-on-MR is deprecated in Hive 2 and may not be available in the future versions. Consider using a different execution engine (i.e. spark, tez) or using Hive 1.X releases.\n",
      "Query ID = root_20200218163547_4449f7d1-b431-46b8-8673-e6ea12604f64\n",
      "Total jobs = 3\n",
      "Launching Job 1 out of 3\n",
      "Number of reduce tasks is set to 0 since there's no reduce operator\n",
      "Starting Job = job_1582040149898_0007, Tracking URL = http://900d27d24b85:8088/proxy/application_1582040149898_0007/\n",
      "Kill Command = /usr/local/hadoop/bin/hadoop job  -kill job_1582040149898_0007\n",
      "Hadoop job information for Stage-1: number of mappers: 1; number of reducers: 0\n",
      "2020-02-18 16:36:06,533 Stage-1 map = 0%,  reduce = 0%\n",
      "2020-02-18 16:36:18,837 Stage-1 map = 100%,  reduce = 0%, Cumulative CPU 3.87 sec\n",
      "MapReduce Total cumulative CPU time: 3 seconds 870 msec\n",
      "Ended Job = job_1582040149898_0007\n",
      "Stage-3 is selected by condition resolver.\n",
      "Stage-2 is filtered out by condition resolver.\n",
      "Stage-4 is filtered out by condition resolver.\n",
      "Moving data to directory hdfs://0.0.0.0:9000/tmp/output/.hive-staging_hive_2020-02-18_16-35-47_051_462147051633213468-1/-ext-10000\n",
      "Moving data to directory /tmp/output\n",
      "MapReduce Jobs Launched: \n",
      "Stage-Stage-1: Map: 1   Cumulative CPU: 3.87 sec   HDFS Read: 4143 HDFS Write: 637 SUCCESS\n",
      "Total MapReduce CPU Time Spent: 3 seconds 870 msec\n",
      "OK\n",
      "Time taken: 34.478 seconds\n"
     ]
    }
   ],
   "source": [
    "%%hive\n",
    "INSERT OVERWRITE DIRECTORY '/tmp/output'\n",
    "ROW FORMAT DELIMITED FIELDS TERMINATED BY ','\n",
    "SELECT * FROM sorted_data;"
   ]
  },
  {
   "cell_type": "code",
   "execution_count": 13,
   "metadata": {},
   "outputs": [
    {
     "name": "stdout",
     "output_type": "stream",
     "text": [
      "SLF4J: Class path contains multiple SLF4J bindings.\n",
      "SLF4J: Found binding in [jar:file:/usr/local/hive/lib/log4j-slf4j-impl-2.6.2.jar!/org/slf4j/impl/StaticLoggerBinder.class]\n",
      "SLF4J: Found binding in [jar:file:/usr/local/hadoop/share/hadoop/common/lib/slf4j-log4j12-1.7.10.jar!/org/slf4j/impl/StaticLoggerBinder.class]\n",
      "SLF4J: See http://www.slf4j.org/codes.html#multiple_bindings for an explanation.\n",
      "SLF4J: Actual binding is of type [org.apache.logging.slf4j.Log4jLoggerFactory]\n",
      "File: output.hql is not a file.\n"
     ]
    }
   ],
   "source": [
    "!hive -S -e 'source output.hql'"
   ]
  },
  {
   "cell_type": "code",
   "execution_count": 14,
   "metadata": {},
   "outputs": [
    {
     "name": "stdout",
     "output_type": "stream",
     "text": [
      "A,1990-10-06,10\n",
      "A,1990-09-05,11\n",
      "A,1988-04-27,12\n",
      "A,1990-08-31,12\n",
      "A,1997-12-15,13\n",
      "A,1994-10-25,13\n",
      "A,1993-01-11,14\n",
      "A,1992-08-22,14\n",
      "A,1990-09-26,14\n",
      "A,1993-05-08,16\n"
     ]
    }
   ],
   "source": [
    "!hdfs dfs -cat /tmp/output/000000_0 | head"
   ]
  },
  {
   "cell_type": "code",
   "execution_count": 15,
   "metadata": {},
   "outputs": [
    {
     "name": "stdout",
     "output_type": "stream",
     "text": [
      "output/000000_0\n"
     ]
    }
   ],
   "source": [
    "!hadoop fs -copyToLocal /tmp/output output\n",
    "!ls output/*"
   ]
  },
  {
   "cell_type": "code",
   "execution_count": 16,
   "metadata": {},
   "outputs": [
    {
     "name": "stdout",
     "output_type": "stream",
     "text": [
      "A,1990-10-06,10\n",
      "A,1990-09-05,11\n",
      "A,1988-04-27,12\n",
      "A,1990-08-31,12\n",
      "A,1997-12-15,13\n",
      "A,1994-10-25,13\n",
      "A,1993-01-11,14\n",
      "A,1992-08-22,14\n",
      "A,1990-09-26,14\n",
      "A,1993-05-08,16\n",
      "A,1990-07-22,18\n",
      "A,1992-09-19,18\n",
      "B,1995-08-23,10\n",
      "B,1999-06-11,12\n",
      "B,1998-11-22,13\n",
      "B,1999-10-21,13\n",
      "B,1997-04-09,14\n",
      "B,1995-09-06,14\n",
      "B,1993-03-02,14\n",
      "B,1999-08-28,14\n",
      "B,1991-10-01,15\n",
      "B,1994-08-30,17\n",
      "C,1994-01-25,6\n",
      "C,1994-07-27,7\n",
      "C,1991-02-12,13\n",
      "C,1994-09-09,15\n",
      "D,1990-10-10,15\n",
      "E,1994-02-14,5\n",
      "E,1999-09-10,11\n",
      "E,1999-12-06,12\n",
      "E,1993-01-27,13\n",
      "E,1991-02-18,14\n",
      "E,1999-01-14,15\n",
      "E,1990-05-03,16\n",
      "E,1998-09-14,16\n",
      "E,1985-02-12,16\n",
      "E,1995-04-25,16\n",
      "E,1993-07-21,17\n",
      "E,1990-02-09,18\n",
      "E,1993-12-27,18\n"
     ]
    }
   ],
   "source": [
    "!cat output/000000_0"
   ]
  },
  {
   "cell_type": "code",
   "execution_count": null,
   "metadata": {},
   "outputs": [],
   "source": []
  }
 ],
 "metadata": {
  "kernelspec": {
   "display_name": "Python 3",
   "language": "python",
   "name": "python3"
  },
  "language_info": {
   "codemirror_mode": {
    "name": "ipython",
    "version": 3
   },
   "file_extension": ".py",
   "mimetype": "text/x-python",
   "name": "python",
   "nbconvert_exporter": "python",
   "pygments_lexer": "ipython3",
   "version": "3.6.9"
  }
 },
 "nbformat": 4,
 "nbformat_minor": 4
}
