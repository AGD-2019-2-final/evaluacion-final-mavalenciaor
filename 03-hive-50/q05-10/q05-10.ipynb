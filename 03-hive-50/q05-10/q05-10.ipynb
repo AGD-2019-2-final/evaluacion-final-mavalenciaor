{
 "cells": [
  {
   "cell_type": "code",
   "execution_count": 1,
   "metadata": {},
   "outputs": [],
   "source": [
    "%load_ext bigdata\n",
    "%hive_start\n",
    "%timeout 300"
   ]
  },
  {
   "cell_type": "code",
   "execution_count": 2,
   "metadata": {},
   "outputs": [
    {
     "name": "stdout",
     "output_type": "stream",
     "text": [
      "Found 4 items\n",
      "drwxrwx---   - root supergroup          0 2020-02-18 19:12 /tmp/hadoop-yarn\n",
      "drwxrwxrwx   - root supergroup          0 2020-02-18 19:19 /tmp/hive\n",
      "drwxrwxrwx   - root supergroup          0 2020-02-18 19:49 /tmp/output\n",
      "drwxr-xr-x   - root supergroup          0 2020-02-18 19:38 /tmp/wordcount\n",
      "mkdir: `/tmp/wordcount': File exists\n",
      "Found 4 items\n",
      "drwxrwx---   - root supergroup          0 2020-02-18 19:12 /tmp/hadoop-yarn\n",
      "drwxrwxrwx   - root supergroup          0 2020-02-18 19:19 /tmp/hive\n",
      "drwxrwxrwx   - root supergroup          0 2020-02-18 19:49 /tmp/output\n",
      "drwxr-xr-x   - root supergroup          0 2020-02-18 19:38 /tmp/wordcount\n"
     ]
    }
   ],
   "source": [
    "!hdfs dfs -ls /tmp\n",
    "!hdfs dfs -mkdir /tmp/wordcount\n",
    "!hdfs dfs -ls /tmp/"
   ]
  },
  {
   "cell_type": "code",
   "execution_count": 3,
   "metadata": {},
   "outputs": [
    {
     "name": "stdout",
     "output_type": "stream",
     "text": [
      "copyFromLocal: `/tmp/wordcount/tbl0.csv': File exists\n",
      "copyFromLocal: `/tmp/wordcount/tbl1.csv': File exists\n"
     ]
    }
   ],
   "source": [
    "!hdfs dfs -copyFromLocal *.csv  /tmp/wordcount/"
   ]
  },
  {
   "cell_type": "code",
   "execution_count": 5,
   "metadata": {},
   "outputs": [
    {
     "name": "stdout",
     "output_type": "stream",
     "text": [
      "DROP TABLE IF EXISTS tbl0;\n",
      "OK\n",
      "Time taken: 15.117 seconds\n",
      "DROP TABLE IF EXISTS tbl1;\n",
      "OK\n",
      "Time taken: 0.148 seconds\n"
     ]
    }
   ],
   "source": [
    "%%hive\n",
    "\n",
    "DROP TABLE IF EXISTS tbl0;\n",
    "DROP TABLE IF EXISTS tbl1;"
   ]
  },
  {
   "cell_type": "code",
   "execution_count": 6,
   "metadata": {},
   "outputs": [
    {
     "name": "stdout",
     "output_type": "stream",
     "text": [
      "CREATE TABLE tbl0 (\n",
      "    c1 INT,\n",
      "    c2 STRING,\n",
      "    c3 INT,\n",
      "    c4 DATE,\n",
      "    c5 ARRAY<CHAR(1)>, \n",
      "    c6 MAP<STRING, INT>\n",
      ")\n",
      "ROW FORMAT DELIMITED \n",
      "FIELDS TERMINATED BY ','\n",
      "COLLECTION ITEMS TERMINATED BY ':'\n",
      "MAP KEYS TERMINATED BY '#'\n",
      "LINES TERMINATED BY '\\n';\n",
      "OK\n",
      "Time taken: 0.954 seconds\n",
      "LOAD DATA LOCAL INPATH 'tbl0.csv' INTO TABLE tbl0;\n",
      "Loading data to table default.tbl0\n",
      "OK\n",
      "Time taken: 1.887 seconds\n"
     ]
    }
   ],
   "source": [
    "%%hive\n",
    "\n",
    "CREATE TABLE tbl0 (\n",
    "    c1 INT,\n",
    "    c2 STRING,\n",
    "    c3 INT,\n",
    "    c4 DATE,\n",
    "    c5 ARRAY<CHAR(1)>, \n",
    "    c6 MAP<STRING, INT>\n",
    ")\n",
    "ROW FORMAT DELIMITED \n",
    "FIELDS TERMINATED BY ','\n",
    "COLLECTION ITEMS TERMINATED BY ':'\n",
    "MAP KEYS TERMINATED BY '#'\n",
    "LINES TERMINATED BY '\\n';\n",
    "LOAD DATA LOCAL INPATH 'tbl0.csv' INTO TABLE tbl0;"
   ]
  },
  {
   "cell_type": "code",
   "execution_count": 7,
   "metadata": {},
   "outputs": [
    {
     "name": "stdout",
     "output_type": "stream",
     "text": [
      "CREATE TABLE tbl1 (\n",
      "    c1 INT,\n",
      "    c2 INT,\n",
      "    c3 STRING,\n",
      "    c4 MAP<STRING, INT>\n",
      ")\n",
      "ROW FORMAT DELIMITED \n",
      "FIELDS TERMINATED BY ','\n",
      "COLLECTION ITEMS TERMINATED BY ':'\n",
      "MAP KEYS TERMINATED BY '#'\n",
      "LINES TERMINATED BY '\\n';\n",
      "OK\n",
      "Time taken: 0.068 seconds\n",
      "LOAD DATA LOCAL INPATH 'tbl1.csv' INTO TABLE tbl1;\n",
      "Loading data to table default.tbl1\n",
      "OK\n",
      "Time taken: 1.24 seconds\n"
     ]
    }
   ],
   "source": [
    "%%hive\n",
    "\n",
    "CREATE TABLE tbl1 (\n",
    "    c1 INT,\n",
    "    c2 INT,\n",
    "    c3 STRING,\n",
    "    c4 MAP<STRING, INT>\n",
    ")\n",
    "ROW FORMAT DELIMITED \n",
    "FIELDS TERMINATED BY ','\n",
    "COLLECTION ITEMS TERMINATED BY ':'\n",
    "MAP KEYS TERMINATED BY '#'\n",
    "LINES TERMINATED BY '\\n';\n",
    "LOAD DATA LOCAL INPATH 'tbl1.csv' INTO TABLE tbl1;"
   ]
  },
  {
   "cell_type": "code",
   "execution_count": 47,
   "metadata": {},
   "outputs": [
    {
     "name": "stdout",
     "output_type": "stream",
     "text": [
      "DROP TABLE IF EXISTS let_by_year;\n",
      "OK\n",
      "Time taken: 0.015 seconds\n",
      "CREATE TABLE let_by_year AS\n",
      "SELECT a.year_s, a.let, COUNT(*)\n",
      "FROM(\n",
      "SELECT YEAR(c4) AS year_s, lets AS let \n",
      "FROM tbl0 \n",
      "LATERAL VIEW explode(c5) tbl0 AS lets) a\n",
      "GROUP BY a.year_s, a.let\n",
      "ORDER BY a.year_s ASC, a.let ASC;\n",
      "WARNING: Hive-on-MR is deprecated in Hive 2 and may not be available in the future versions. Consider using a different execution engine (i.e. spark, tez) or using Hive 1.X releases.\n",
      "Query ID = root_20200218203145_172ea40e-51e5-4499-bfc9-9d9bd6bdeead\n",
      "Total jobs = 2\n",
      "Launching Job 1 out of 2\n",
      "Number of reduce tasks not specified. Estimated from input data size: 1\n",
      "In order to change the average load for a reducer (in bytes):\n",
      "  set hive.exec.reducers.bytes.per.reducer=<number>\n",
      "In order to limit the maximum number of reducers:\n",
      "  set hive.exec.reducers.max=<number>\n",
      "In order to set a constant number of reducers:\n",
      "  set mapreduce.job.reduces=<number>\n",
      "Starting Job = job_1582053079980_0013, Tracking URL = http://fbebe19f3edd:8088/proxy/application_1582053079980_0013/\n",
      "Kill Command = /usr/local/hadoop/bin/hadoop job  -kill job_1582053079980_0013\n",
      "Hadoop job information for Stage-1: number of mappers: 1; number of reducers: 1\n",
      "2020-02-18 20:31:54,340 Stage-1 map = 0%,  reduce = 0%\n",
      "2020-02-18 20:32:00,281 Stage-1 map = 100%,  reduce = 0%, Cumulative CPU 3.43 sec\n",
      "2020-02-18 20:32:07,146 Stage-1 map = 100%,  reduce = 100%, Cumulative CPU 5.59 sec\n",
      "MapReduce Total cumulative CPU time: 5 seconds 590 msec\n",
      "Ended Job = job_1582053079980_0013\n",
      "Launching Job 2 out of 2\n",
      "Number of reduce tasks determined at compile time: 1\n",
      "In order to change the average load for a reducer (in bytes):\n",
      "  set hive.exec.reducers.bytes.per.reducer=<number>\n",
      "In order to limit the maximum number of reducers:\n",
      "  set hive.exec.reducers.max=<number>\n",
      "In order to set a constant number of reducers:\n",
      "  set mapreduce.job.reduces=<number>\n",
      "Starting Job = job_1582053079980_0014, Tracking URL = http://fbebe19f3edd:8088/proxy/application_1582053079980_0014/\n",
      "Kill Command = /usr/local/hadoop/bin/hadoop job  -kill job_1582053079980_0014\n",
      "Hadoop job information for Stage-2: number of mappers: 1; number of reducers: 1\n",
      "2020-02-18 20:32:21,656 Stage-2 map = 0%,  reduce = 0%\n",
      "2020-02-18 20:32:27,390 Stage-2 map = 100%,  reduce = 0%, Cumulative CPU 1.42 sec\n",
      "2020-02-18 20:32:35,259 Stage-2 map = 100%,  reduce = 100%, Cumulative CPU 3.59 sec\n",
      "MapReduce Total cumulative CPU time: 3 seconds 590 msec\n",
      "Ended Job = job_1582053079980_0014\n",
      "Moving data to directory hdfs://0.0.0.0:9000/user/hive/warehouse/let_by_year\n",
      "MapReduce Jobs Launched: \n",
      "Stage-Stage-1: Map: 1  Reduce: 1   Cumulative CPU: 5.59 sec   HDFS Read: 12287 HDFS Write: 556 SUCCESS\n",
      "Stage-Stage-2: Map: 1  Reduce: 1   Cumulative CPU: 3.59 sec   HDFS Read: 6385 HDFS Write: 256 SUCCESS\n",
      "Total MapReduce CPU Time Spent: 9 seconds 180 msec\n",
      "OK\n",
      "Time taken: 51.386 seconds\n"
     ]
    }
   ],
   "source": [
    "%%hive\n",
    "DROP TABLE IF EXISTS let_by_year;\n",
    "CREATE TABLE let_by_year AS\n",
    "SELECT a.year_s, a.let, COUNT(*)\n",
    "FROM(\n",
    "SELECT YEAR(c4) AS year_s, lets AS let \n",
    "FROM tbl0 \n",
    "LATERAL VIEW explode(c5) tbl0 AS lets) a\n",
    "GROUP BY a.year_s, a.let\n",
    "ORDER BY a.year_s ASC, a.let ASC;"
   ]
  },
  {
   "cell_type": "code",
   "execution_count": 48,
   "metadata": {},
   "outputs": [
    {
     "name": "stdout",
     "output_type": "stream",
     "text": [
      "INSERT OVERWRITE DIRECTORY '/tmp/output'\n",
      "ROW FORMAT DELIMITED FIELDS TERMINATED BY ','\n",
      "SELECT * FROM let_by_year;\n",
      "WARNING: Hive-on-MR is deprecated in Hive 2 and may not be available in the future versions. Consider using a different execution engine (i.e. spark, tez) or using Hive 1.X releases.\n",
      "Query ID = root_20200218203244_717ae767-979e-4fd0-9185-ef9e06eda2e6\n",
      "Total jobs = 3\n",
      "Launching Job 1 out of 3\n",
      "Number of reduce tasks is set to 0 since there's no reduce operator\n",
      "Starting Job = job_1582053079980_0015, Tracking URL = http://fbebe19f3edd:8088/proxy/application_1582053079980_0015/\n",
      "Kill Command = /usr/local/hadoop/bin/hadoop job  -kill job_1582053079980_0015\n",
      "Hadoop job information for Stage-1: number of mappers: 1; number of reducers: 0\n",
      "2020-02-18 20:32:52,898 Stage-1 map = 0%,  reduce = 0%\n",
      "2020-02-18 20:32:59,899 Stage-1 map = 100%,  reduce = 0%, Cumulative CPU 1.94 sec\n",
      "MapReduce Total cumulative CPU time: 1 seconds 940 msec\n",
      "Ended Job = job_1582053079980_0015\n",
      "Stage-3 is selected by condition resolver.\n",
      "Stage-2 is filtered out by condition resolver.\n",
      "Stage-4 is filtered out by condition resolver.\n",
      "Moving data to directory hdfs://0.0.0.0:9000/tmp/output/.hive-staging_hive_2020-02-18_20-32-44_544_5970565360658644884-1/-ext-10000\n",
      "Moving data to directory /tmp/output\n",
      "MapReduce Jobs Launched: \n",
      "Stage-Stage-1: Map: 1   Cumulative CPU: 1.94 sec   HDFS Read: 3837 HDFS Write: 180 SUCCESS\n",
      "Total MapReduce CPU Time Spent: 1 seconds 940 msec\n",
      "OK\n",
      "Time taken: 16.537 seconds\n"
     ]
    }
   ],
   "source": [
    "%%hive\n",
    "INSERT OVERWRITE DIRECTORY '/tmp/output'\n",
    "ROW FORMAT DELIMITED FIELDS TERMINATED BY ','\n",
    "SELECT * FROM let_by_year;"
   ]
  },
  {
   "cell_type": "code",
   "execution_count": 49,
   "metadata": {},
   "outputs": [
    {
     "name": "stdout",
     "output_type": "stream",
     "text": [
      "SLF4J: Class path contains multiple SLF4J bindings.\n",
      "SLF4J: Found binding in [jar:file:/usr/local/hive/lib/log4j-slf4j-impl-2.6.2.jar!/org/slf4j/impl/StaticLoggerBinder.class]\n",
      "SLF4J: Found binding in [jar:file:/usr/local/hadoop/share/hadoop/common/lib/slf4j-log4j12-1.7.10.jar!/org/slf4j/impl/StaticLoggerBinder.class]\n",
      "SLF4J: See http://www.slf4j.org/codes.html#multiple_bindings for an explanation.\n",
      "SLF4J: Actual binding is of type [org.apache.logging.slf4j.Log4jLoggerFactory]\n",
      "File: output.hql is not a file.\n"
     ]
    }
   ],
   "source": [
    "!hive -S -e 'source output.hql'"
   ]
  },
  {
   "cell_type": "code",
   "execution_count": 50,
   "metadata": {},
   "outputs": [
    {
     "name": "stdout",
     "output_type": "stream",
     "text": [
      "2014,a,1\n",
      "2014,b,1\n",
      "2014,d,2\n",
      "2014,e,1\n",
      "2015,a,3\n",
      "2015,b,1\n",
      "2015,c,3\n",
      "2015,d,2\n",
      "2015,e,2\n",
      "2016,a,2\n"
     ]
    }
   ],
   "source": [
    "!hdfs dfs -cat /tmp/output/000000_0 | head"
   ]
  },
  {
   "cell_type": "code",
   "execution_count": 51,
   "metadata": {},
   "outputs": [
    {
     "name": "stdout",
     "output_type": "stream",
     "text": [
      "output/000000_0\n"
     ]
    }
   ],
   "source": [
    "!hadoop fs -copyToLocal /tmp/output output\n",
    "!ls output/*"
   ]
  },
  {
   "cell_type": "code",
   "execution_count": 52,
   "metadata": {},
   "outputs": [
    {
     "name": "stdout",
     "output_type": "stream",
     "text": [
      "2014,a,1\n",
      "2014,b,1\n",
      "2014,d,2\n",
      "2014,e,1\n",
      "2015,a,3\n",
      "2015,b,1\n",
      "2015,c,3\n",
      "2015,d,2\n",
      "2015,e,2\n",
      "2016,a,2\n",
      "2016,b,1\n",
      "2016,c,3\n",
      "2016,d,3\n",
      "2016,e,3\n",
      "2017,a,1\n",
      "2017,b,1\n",
      "2017,c,1\n",
      "2017,e,1\n",
      "2018,a,1\n",
      "2018,d,1\n"
     ]
    }
   ],
   "source": [
    "!cat output/000000_0"
   ]
  },
  {
   "cell_type": "code",
   "execution_count": null,
   "metadata": {},
   "outputs": [],
   "source": []
  }
 ],
 "metadata": {
  "kernelspec": {
   "display_name": "Python 3",
   "language": "python",
   "name": "python3"
  },
  "language_info": {
   "codemirror_mode": {
    "name": "ipython",
    "version": 3
   },
   "file_extension": ".py",
   "mimetype": "text/x-python",
   "name": "python",
   "nbconvert_exporter": "python",
   "pygments_lexer": "ipython3",
   "version": "3.6.9"
  }
 },
 "nbformat": 4,
 "nbformat_minor": 4
}
