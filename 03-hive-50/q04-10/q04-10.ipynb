{
 "cells": [
  {
   "cell_type": "code",
   "execution_count": 1,
   "metadata": {},
   "outputs": [],
   "source": [
    "%load_ext bigdata\n",
    "%hive_start\n",
    "%timeout 300"
   ]
  },
  {
   "cell_type": "code",
   "execution_count": 2,
   "metadata": {},
   "outputs": [
    {
     "name": "stdout",
     "output_type": "stream",
     "text": [
      "Found 3 items\n",
      "drwxrwx---   - root supergroup          0 2020-02-18 19:12 /tmp/hadoop-yarn\n",
      "drwxrwxrwx   - root supergroup          0 2020-02-18 19:19 /tmp/hive\n",
      "drwxrwxrwx   - root supergroup          0 2020-02-18 19:24 /tmp/output\n",
      "Found 4 items\n",
      "drwxrwx---   - root supergroup          0 2020-02-18 19:12 /tmp/hadoop-yarn\n",
      "drwxrwxrwx   - root supergroup          0 2020-02-18 19:19 /tmp/hive\n",
      "drwxrwxrwx   - root supergroup          0 2020-02-18 19:24 /tmp/output\n",
      "drwxr-xr-x   - root supergroup          0 2020-02-18 19:30 /tmp/wordcount\n"
     ]
    }
   ],
   "source": [
    "!hdfs dfs -ls /tmp\n",
    "!hdfs dfs -mkdir /tmp/wordcount\n",
    "!hdfs dfs -ls /tmp/"
   ]
  },
  {
   "cell_type": "code",
   "execution_count": 4,
   "metadata": {},
   "outputs": [
    {
     "name": "stdout",
     "output_type": "stream",
     "text": [
      "Get:1 http://security.ubuntu.com/ubuntu bionic-security InRelease [88.7 kB]    \n",
      "Get:2 http://archive.ubuntu.com/ubuntu bionic InRelease [242 kB]               \n",
      "Get:3 http://archive.ubuntu.com/ubuntu bionic-updates InRelease [88.7 kB]      \n",
      "Get:4 http://archive.ubuntu.com/ubuntu bionic-backports InRelease [74.6 kB]    \n",
      "Get:5 http://security.ubuntu.com/ubuntu bionic-security/restricted amd64 Packages [30.9 kB]\n",
      "Get:6 http://archive.ubuntu.com/ubuntu bionic/main amd64 Packages [1344 kB]\n",
      "Get:7 http://security.ubuntu.com/ubuntu bionic-security/multiverse amd64 Packages [7064 B]\n",
      "Get:8 http://security.ubuntu.com/ubuntu bionic-security/universe amd64 Packages [822 kB]\n",
      "Get:9 http://security.ubuntu.com/ubuntu bionic-security/main amd64 Packages [834 kB]\n",
      "Get:10 http://archive.ubuntu.com/ubuntu bionic/restricted amd64 Packages [13.5 kB]\n",
      "Get:11 http://archive.ubuntu.com/ubuntu bionic/universe amd64 Packages [11.3 MB]\n",
      "Get:12 http://archive.ubuntu.com/ubuntu bionic/multiverse amd64 Packages [186 kB]\n",
      "Get:13 http://archive.ubuntu.com/ubuntu bionic-updates/main amd64 Packages [1124 kB]\n",
      "Get:14 http://archive.ubuntu.com/ubuntu bionic-updates/restricted amd64 Packages [44.5 kB]\n",
      "Get:15 http://archive.ubuntu.com/ubuntu bionic-updates/multiverse amd64 Packages [11.1 kB]\n",
      "Get:16 http://archive.ubuntu.com/ubuntu bionic-updates/universe amd64 Packages [1349 kB]\n",
      "Get:17 http://archive.ubuntu.com/ubuntu bionic-backports/universe amd64 Packages [4252 B]\n",
      "Get:18 http://archive.ubuntu.com/ubuntu bionic-backports/main amd64 Packages [2496 B]\n",
      "Fetched 17.6 MB in 1min 12s (243 kB/s)                                         \n",
      "Reading package lists... Done\n",
      "Reading package lists... Done\n",
      "Building dependency tree       \n",
      "Reading state information... Done\n",
      "wget is already the newest version (1.19.4-1ubuntu2.2).\n",
      "0 upgraded, 0 newly installed, 0 to remove and 41 not upgraded.\n"
     ]
    }
   ],
   "source": [
    "!apt-get update && apt-get install wget"
   ]
  },
  {
   "cell_type": "code",
   "execution_count": 3,
   "metadata": {},
   "outputs": [],
   "source": [
    "!hdfs dfs -copyFromLocal *.csv  /tmp/wordcount/"
   ]
  },
  {
   "cell_type": "code",
   "execution_count": 4,
   "metadata": {},
   "outputs": [
    {
     "name": "stdout",
     "output_type": "stream",
     "text": [
      "Found 2 items\n",
      "-rw-r--r--   1 root supergroup        397 2020-02-18 19:38 /tmp/wordcount/tbl0.csv\n",
      "-rw-r--r--   1 root supergroup        282 2020-02-18 19:38 /tmp/wordcount/tbl1.csv\n"
     ]
    }
   ],
   "source": [
    "!hdfs dfs -ls /tmp/wordcount/"
   ]
  },
  {
   "cell_type": "code",
   "execution_count": 5,
   "metadata": {},
   "outputs": [
    {
     "name": "stdout",
     "output_type": "stream",
     "text": [
      "1,D,4,2016-06-25,a:e:c:d,bb#10:dd#20:cc#40\n",
      "2,C,4,2015-05-14,a:c,dd#40:bb#20:cc#10\n",
      "3,D,6,2014-12-26,b:d,aa#10:bb#40\n",
      "4,D,5,2016-06-25,a:c:e:b:d,bb#40:dd#20:aa#10:cc#30\n",
      "5,C,7,2016-05-23,d:e:c,cc#10:aa#20\n",
      "6,A,2,2018-06-14,a:d,aa#20\n",
      "7,B,3,2014-12-22,a:e:d,cc#20\n",
      "8,C,6,2015-08-20,d:a:c:e,cc#10:aa#20\n",
      "9,B,3,2017-12-08,b:a:c:e,cc#40:dd#10:aa#30:bb#20\n",
      "10,B,7,2015-07-28,c:d:e:a:b,aa#10:dd#40:cc#30"
     ]
    }
   ],
   "source": [
    "!hdfs dfs -cat /tmp/wordcount/tbl0.csv"
   ]
  },
  {
   "cell_type": "code",
   "execution_count": 6,
   "metadata": {},
   "outputs": [
    {
     "name": "stdout",
     "output_type": "stream",
     "text": [
      "DROP TABLE IF EXISTS tbl0;\n",
      "OK\n",
      "Time taken: 13.767 seconds\n",
      "DROP TABLE IF EXISTS tbl1;\n",
      "OK\n",
      "Time taken: 0.013 seconds\n"
     ]
    }
   ],
   "source": [
    "%%hive\n",
    "\n",
    "DROP TABLE IF EXISTS tbl0;\n",
    "DROP TABLE IF EXISTS tbl1;"
   ]
  },
  {
   "cell_type": "code",
   "execution_count": 7,
   "metadata": {},
   "outputs": [
    {
     "name": "stdout",
     "output_type": "stream",
     "text": [
      "CREATE TABLE tbl0 (\n",
      "    c1 INT,\n",
      "    c2 STRING,\n",
      "    c3 INT,\n",
      "    c4 DATE,\n",
      "    c5 ARRAY<CHAR(1)>, \n",
      "    c6 MAP<STRING, INT>\n",
      ")\n",
      "ROW FORMAT DELIMITED \n",
      "FIELDS TERMINATED BY ','\n",
      "COLLECTION ITEMS TERMINATED BY ':'\n",
      "MAP KEYS TERMINATED BY '#'\n",
      "LINES TERMINATED BY '\\n';\n",
      "OK\n",
      "Time taken: 1.51 seconds\n",
      "LOAD DATA LOCAL INPATH 'tbl0.csv' INTO TABLE tbl0;\n",
      "Loading data to table default.tbl0\n",
      "OK\n",
      "Time taken: 2.512 seconds\n"
     ]
    }
   ],
   "source": [
    "%%hive\n",
    "\n",
    "CREATE TABLE tbl0 (\n",
    "    c1 INT,\n",
    "    c2 STRING,\n",
    "    c3 INT,\n",
    "    c4 DATE,\n",
    "    c5 ARRAY<CHAR(1)>, \n",
    "    c6 MAP<STRING, INT>\n",
    ")\n",
    "ROW FORMAT DELIMITED \n",
    "FIELDS TERMINATED BY ','\n",
    "COLLECTION ITEMS TERMINATED BY ':'\n",
    "MAP KEYS TERMINATED BY '#'\n",
    "LINES TERMINATED BY '\\n';\n",
    "LOAD DATA LOCAL INPATH 'tbl0.csv' INTO TABLE tbl0;"
   ]
  },
  {
   "cell_type": "code",
   "execution_count": 8,
   "metadata": {},
   "outputs": [
    {
     "name": "stdout",
     "output_type": "stream",
     "text": [
      "CREATE TABLE tbl1 (\n",
      "    c1 INT,\n",
      "    c2 INT,\n",
      "    c3 STRING,\n",
      "    c4 MAP<STRING, INT>\n",
      ")\n",
      "ROW FORMAT DELIMITED \n",
      "FIELDS TERMINATED BY ','\n",
      "COLLECTION ITEMS TERMINATED BY ':'\n",
      "MAP KEYS TERMINATED BY '#'\n",
      "LINES TERMINATED BY '\\n';\n",
      "OK\n",
      "Time taken: 0.108 seconds\n",
      "LOAD DATA LOCAL INPATH 'tbl1.csv' INTO TABLE tbl1;\n",
      "Loading data to table default.tbl1\n",
      "OK\n",
      "Time taken: 1.176 seconds\n"
     ]
    }
   ],
   "source": [
    "%%hive\n",
    "\n",
    "CREATE TABLE tbl1 (\n",
    "    c1 INT,\n",
    "    c2 INT,\n",
    "    c3 STRING,\n",
    "    c4 MAP<STRING, INT>\n",
    ")\n",
    "ROW FORMAT DELIMITED \n",
    "FIELDS TERMINATED BY ','\n",
    "COLLECTION ITEMS TERMINATED BY ':'\n",
    "MAP KEYS TERMINATED BY '#'\n",
    "LINES TERMINATED BY '\\n';\n",
    "LOAD DATA LOCAL INPATH 'tbl1.csv' INTO TABLE tbl1;"
   ]
  },
  {
   "cell_type": "code",
   "execution_count": 16,
   "metadata": {},
   "outputs": [
    {
     "name": "stdout",
     "output_type": "stream",
     "text": [
      "DROP TABLE IF EXISTS unique_values;\n",
      "OK\n",
      "Time taken: 0.014 seconds\n",
      "CREATE TABLE unique_values AS\n",
      "SELECT DISTINCT a.*\n",
      "FROM (SELECT explode(c5) FROM tbl0) a;\n",
      "WARNING: Hive-on-MR is deprecated in Hive 2 and may not be available in the future versions. Consider using a different execution engine (i.e. spark, tez) or using Hive 1.X releases.\n",
      "Query ID = root_20200218194847_e172192d-d74a-49c5-b086-b8601374be0a\n",
      "Total jobs = 1\n",
      "Launching Job 1 out of 1\n",
      "Number of reduce tasks not specified. Estimated from input data size: 1\n",
      "In order to change the average load for a reducer (in bytes):\n",
      "  set hive.exec.reducers.bytes.per.reducer=<number>\n",
      "In order to limit the maximum number of reducers:\n",
      "  set hive.exec.reducers.max=<number>\n",
      "In order to set a constant number of reducers:\n",
      "  set mapreduce.job.reduces=<number>\n",
      "Starting Job = job_1582053079980_0008, Tracking URL = http://fbebe19f3edd:8088/proxy/application_1582053079980_0008/\n",
      "Kill Command = /usr/local/hadoop/bin/hadoop job  -kill job_1582053079980_0008\n",
      "Hadoop job information for Stage-1: number of mappers: 1; number of reducers: 1\n",
      "2020-02-18 19:48:58,031 Stage-1 map = 0%,  reduce = 0%\n",
      "2020-02-18 19:49:03,781 Stage-1 map = 100%,  reduce = 0%, Cumulative CPU 2.28 sec\n",
      "2020-02-18 19:49:11,791 Stage-1 map = 100%,  reduce = 100%, Cumulative CPU 4.92 sec\n",
      "MapReduce Total cumulative CPU time: 4 seconds 920 msec\n",
      "Ended Job = job_1582053079980_0008\n",
      "Moving data to directory hdfs://0.0.0.0:9000/user/hive/warehouse/unique_values\n",
      "MapReduce Jobs Launched: \n",
      "Stage-Stage-1: Map: 1  Reduce: 1   Cumulative CPU: 4.92 sec   HDFS Read: 9083 HDFS Write: 87 SUCCESS\n",
      "Total MapReduce CPU Time Spent: 4 seconds 920 msec\n",
      "OK\n",
      "Time taken: 26.008 seconds\n"
     ]
    }
   ],
   "source": [
    "%%hive\n",
    "DROP TABLE IF EXISTS unique_values;\n",
    "CREATE TABLE unique_values AS\n",
    "SELECT DISTINCT a.*\n",
    "FROM (SELECT explode(c5) FROM tbl0) a;"
   ]
  },
  {
   "cell_type": "code",
   "execution_count": 17,
   "metadata": {},
   "outputs": [
    {
     "name": "stdout",
     "output_type": "stream",
     "text": [
      "INSERT OVERWRITE DIRECTORY '/tmp/output'\n",
      "ROW FORMAT DELIMITED FIELDS TERMINATED BY ','\n",
      "SELECT * FROM unique_values;\n",
      "WARNING: Hive-on-MR is deprecated in Hive 2 and may not be available in the future versions. Consider using a different execution engine (i.e. spark, tez) or using Hive 1.X releases.\n",
      "Query ID = root_20200218194928_e6eaa6b3-6f0a-4d8c-821d-f789e8d11be0\n",
      "Total jobs = 3\n",
      "Launching Job 1 out of 3\n",
      "Number of reduce tasks is set to 0 since there's no reduce operator\n",
      "Starting Job = job_1582053079980_0009, Tracking URL = http://fbebe19f3edd:8088/proxy/application_1582053079980_0009/\n",
      "Kill Command = /usr/local/hadoop/bin/hadoop job  -kill job_1582053079980_0009\n",
      "Hadoop job information for Stage-1: number of mappers: 1; number of reducers: 0\n",
      "2020-02-18 19:49:38,640 Stage-1 map = 0%,  reduce = 0%\n",
      "2020-02-18 19:49:44,470 Stage-1 map = 100%,  reduce = 0%, Cumulative CPU 1.87 sec\n",
      "MapReduce Total cumulative CPU time: 1 seconds 870 msec\n",
      "Ended Job = job_1582053079980_0009\n",
      "Stage-3 is selected by condition resolver.\n",
      "Stage-2 is filtered out by condition resolver.\n",
      "Stage-4 is filtered out by condition resolver.\n",
      "Moving data to directory hdfs://0.0.0.0:9000/tmp/output/.hive-staging_hive_2020-02-18_19-49-28_422_7903434063144358288-1/-ext-10000\n",
      "Moving data to directory /tmp/output\n",
      "MapReduce Jobs Launched: \n",
      "Stage-Stage-1: Map: 1   Cumulative CPU: 1.87 sec   HDFS Read: 3382 HDFS Write: 10 SUCCESS\n",
      "Total MapReduce CPU Time Spent: 1 seconds 870 msec\n",
      "OK\n",
      "Time taken: 17.247 seconds\n"
     ]
    }
   ],
   "source": [
    "%%hive\n",
    "INSERT OVERWRITE DIRECTORY '/tmp/output'\n",
    "ROW FORMAT DELIMITED FIELDS TERMINATED BY ','\n",
    "SELECT * FROM unique_values;"
   ]
  },
  {
   "cell_type": "code",
   "execution_count": 18,
   "metadata": {},
   "outputs": [
    {
     "name": "stdout",
     "output_type": "stream",
     "text": [
      "SLF4J: Class path contains multiple SLF4J bindings.\n",
      "SLF4J: Found binding in [jar:file:/usr/local/hive/lib/log4j-slf4j-impl-2.6.2.jar!/org/slf4j/impl/StaticLoggerBinder.class]\n",
      "SLF4J: Found binding in [jar:file:/usr/local/hadoop/share/hadoop/common/lib/slf4j-log4j12-1.7.10.jar!/org/slf4j/impl/StaticLoggerBinder.class]\n",
      "SLF4J: See http://www.slf4j.org/codes.html#multiple_bindings for an explanation.\n",
      "SLF4J: Actual binding is of type [org.apache.logging.slf4j.Log4jLoggerFactory]\n",
      "File: output.hql is not a file.\n"
     ]
    }
   ],
   "source": [
    "!hive -S -e 'source output.hql'"
   ]
  },
  {
   "cell_type": "code",
   "execution_count": 19,
   "metadata": {},
   "outputs": [
    {
     "name": "stdout",
     "output_type": "stream",
     "text": [
      "a\n",
      "b\n",
      "c\n",
      "d\n",
      "e\n"
     ]
    }
   ],
   "source": [
    "!hdfs dfs -cat /tmp/output/000000_0 | head"
   ]
  },
  {
   "cell_type": "code",
   "execution_count": 20,
   "metadata": {},
   "outputs": [
    {
     "name": "stdout",
     "output_type": "stream",
     "text": [
      "output/000000_0\n"
     ]
    }
   ],
   "source": [
    "!hadoop fs -copyToLocal /tmp/output output\n",
    "!ls output/*"
   ]
  },
  {
   "cell_type": "code",
   "execution_count": 21,
   "metadata": {},
   "outputs": [
    {
     "name": "stdout",
     "output_type": "stream",
     "text": [
      "a\n",
      "b\n",
      "c\n",
      "d\n",
      "e\n"
     ]
    }
   ],
   "source": [
    "!cat output/000000_0"
   ]
  },
  {
   "cell_type": "code",
   "execution_count": null,
   "metadata": {},
   "outputs": [],
   "source": []
  }
 ],
 "metadata": {
  "kernelspec": {
   "display_name": "Python 3",
   "language": "python",
   "name": "python3"
  },
  "language_info": {
   "codemirror_mode": {
    "name": "ipython",
    "version": 3
   },
   "file_extension": ".py",
   "mimetype": "text/x-python",
   "name": "python",
   "nbconvert_exporter": "python",
   "pygments_lexer": "ipython3",
   "version": "3.6.9"
  }
 },
 "nbformat": 4,
 "nbformat_minor": 4
}
