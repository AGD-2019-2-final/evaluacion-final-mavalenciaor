{
 "cells": [
  {
   "cell_type": "code",
   "execution_count": 1,
   "metadata": {},
   "outputs": [],
   "source": [
    "%load_ext bigdata\n",
    "%hive_start\n",
    "%timeout 300"
   ]
  },
  {
   "cell_type": "code",
   "execution_count": 2,
   "metadata": {},
   "outputs": [
    {
     "name": "stdout",
     "output_type": "stream",
     "text": [
      "Found 4 items\n",
      "drwxrwx---   - root supergroup          0 2020-02-18 19:12 /tmp/hadoop-yarn\n",
      "drwxrwxrwx   - root supergroup          0 2020-02-18 19:19 /tmp/hive\n",
      "drwxrwxrwx   - root supergroup          0 2020-02-18 23:04 /tmp/output\n",
      "drwxr-xr-x   - root supergroup          0 2020-02-18 22:47 /tmp/wordcount\n",
      "mkdir: `/tmp/wordcount': File exists\n",
      "Found 4 items\n",
      "drwxrwx---   - root supergroup          0 2020-02-18 19:12 /tmp/hadoop-yarn\n",
      "drwxrwxrwx   - root supergroup          0 2020-02-18 19:19 /tmp/hive\n",
      "drwxrwxrwx   - root supergroup          0 2020-02-18 23:04 /tmp/output\n",
      "drwxr-xr-x   - root supergroup          0 2020-02-18 22:47 /tmp/wordcount\n"
     ]
    }
   ],
   "source": [
    "!hdfs dfs -ls /tmp\n",
    "!hdfs dfs -mkdir /tmp/wordcount\n",
    "!hdfs dfs -ls /tmp/"
   ]
  },
  {
   "cell_type": "code",
   "execution_count": 3,
   "metadata": {},
   "outputs": [
    {
     "name": "stdout",
     "output_type": "stream",
     "text": [
      "copyFromLocal: `/tmp/wordcount/data.tsv': File exists\n"
     ]
    }
   ],
   "source": [
    "!hdfs dfs -copyFromLocal data.tsv  /tmp/wordcount/"
   ]
  },
  {
   "cell_type": "code",
   "execution_count": 4,
   "metadata": {},
   "outputs": [
    {
     "name": "stdout",
     "output_type": "stream",
     "text": [
      "DROP TABLE IF EXISTS t0;\n",
      "OK\n",
      "Time taken: 31.352 seconds\n",
      "CREATE TABLE t0 (\n",
      "    c1 STRING,\n",
      "    c2 ARRAY<CHAR(1)>, \n",
      "    c3 MAP<STRING, INT>\n",
      "    )\n",
      "    ROW FORMAT DELIMITED \n",
      "        FIELDS TERMINATED BY '\\t'\n",
      "        COLLECTION ITEMS TERMINATED BY ','\n",
      "        MAP KEYS TERMINATED BY '#'\n",
      "        LINES TERMINATED BY '\\n';\n",
      "OK\n",
      "Time taken: 1.855 seconds\n",
      "LOAD DATA LOCAL INPATH 'data.tsv' INTO TABLE t0;\n",
      "Loading data to table default.t0\n",
      "OK\n",
      "Time taken: 3.287 seconds\n"
     ]
    }
   ],
   "source": [
    "%%hive\n",
    "DROP TABLE IF EXISTS t0;\n",
    "CREATE TABLE t0 (\n",
    "    c1 STRING,\n",
    "    c2 ARRAY<CHAR(1)>, \n",
    "    c3 MAP<STRING, INT>\n",
    "    )\n",
    "    ROW FORMAT DELIMITED \n",
    "        FIELDS TERMINATED BY '\\t'\n",
    "        COLLECTION ITEMS TERMINATED BY ','\n",
    "        MAP KEYS TERMINATED BY '#'\n",
    "        LINES TERMINATED BY '\\n';\n",
    "LOAD DATA LOCAL INPATH 'data.tsv' INTO TABLE t0;"
   ]
  },
  {
   "cell_type": "code",
   "execution_count": 11,
   "metadata": {},
   "outputs": [
    {
     "name": "stdout",
     "output_type": "stream",
     "text": [
      "DROP TABLE IF EXISTS cant_let_clav;\n",
      "OK\n",
      "Time taken: 0.023 seconds\n",
      "CREATE TABLE cant_let_clav AS\n",
      "SELECT f.v1, f.v2, COUNT(*)\n",
      "FROM\n",
      "(SELECT a.c AS v1, a.k AS v2\n",
      "FROM  \n",
      "(SELECT c2, k \n",
      "FROM t0 \n",
      "LATERAL VIEW explode(c3) t0 AS k, v) a\n",
      "LATERAL VIEW explode(a.c2) a AS c) f\n",
      "GROUP BY f.v1, f.v2;\n",
      "WARNING: Hive-on-MR is deprecated in Hive 2 and may not be available in the future versions. Consider using a different execution engine (i.e. spark, tez) or using Hive 1.X releases.\n",
      "Query ID = root_20200218232304_b35be194-07fa-458e-8f18-9c34d9228330\n",
      "Total jobs = 1\n",
      "Launching Job 1 out of 1\n",
      "Number of reduce tasks not specified. Estimated from input data size: 1\n",
      "In order to change the average load for a reducer (in bytes):\n",
      "  set hive.exec.reducers.bytes.per.reducer=<number>\n",
      "In order to limit the maximum number of reducers:\n",
      "  set hive.exec.reducers.max=<number>\n",
      "In order to set a constant number of reducers:\n",
      "  set mapreduce.job.reduces=<number>\n",
      "Starting Job = job_1582053079980_0037, Tracking URL = http://fbebe19f3edd:8088/proxy/application_1582053079980_0037/\n",
      "Kill Command = /usr/local/hadoop/bin/hadoop job  -kill job_1582053079980_0037\n",
      "Hadoop job information for Stage-1: number of mappers: 1; number of reducers: 1\n",
      "2020-02-18 23:23:21,737 Stage-1 map = 0%,  reduce = 0%\n",
      "2020-02-18 23:23:34,455 Stage-1 map = 100%,  reduce = 0%, Cumulative CPU 4.39 sec\n",
      "2020-02-18 23:23:48,121 Stage-1 map = 100%,  reduce = 100%, Cumulative CPU 9.28 sec\n",
      "MapReduce Total cumulative CPU time: 9 seconds 280 msec\n",
      "Ended Job = job_1582053079980_0037\n",
      "Moving data to directory hdfs://0.0.0.0:9000/user/hive/warehouse/cant_let_clav\n",
      "MapReduce Jobs Launched: \n",
      "Stage-Stage-1: Map: 1  Reduce: 1   Cumulative CPU: 9.28 sec   HDFS Read: 14324 HDFS Write: 651 SUCCESS\n",
      "Total MapReduce CPU Time Spent: 9 seconds 280 msec\n",
      "OK\n",
      "Time taken: 46.431 seconds\n"
     ]
    }
   ],
   "source": [
    "%%hive\n",
    "DROP TABLE IF EXISTS cant_let_clav;\n",
    "CREATE TABLE cant_let_clav AS\n",
    "SELECT f.v1, f.v2, COUNT(*)\n",
    "FROM\n",
    "(SELECT a.c AS v1, a.k AS v2\n",
    "FROM  \n",
    "(SELECT c2, k \n",
    "FROM t0 \n",
    "LATERAL VIEW explode(c3) t0 AS k, v) a\n",
    "LATERAL VIEW explode(a.c2) a AS c) f\n",
    "GROUP BY f.v1, f.v2;"
   ]
  },
  {
   "cell_type": "code",
   "execution_count": 12,
   "metadata": {},
   "outputs": [
    {
     "name": "stdout",
     "output_type": "stream",
     "text": [
      "INSERT OVERWRITE DIRECTORY '/tmp/output'\n",
      "ROW FORMAT DELIMITED FIELDS TERMINATED BY ','\n",
      "SELECT * FROM cant_let_clav;\n",
      "WARNING: Hive-on-MR is deprecated in Hive 2 and may not be available in the future versions. Consider using a different execution engine (i.e. spark, tez) or using Hive 1.X releases.\n",
      "Query ID = root_20200218232351_b471b370-0302-4688-9fe8-740b68774dac\n",
      "Total jobs = 3\n",
      "Launching Job 1 out of 3\n",
      "Number of reduce tasks is set to 0 since there's no reduce operator\n",
      "Starting Job = job_1582053079980_0038, Tracking URL = http://fbebe19f3edd:8088/proxy/application_1582053079980_0038/\n",
      "Kill Command = /usr/local/hadoop/bin/hadoop job  -kill job_1582053079980_0038\n",
      "Hadoop job information for Stage-1: number of mappers: 1; number of reducers: 0\n",
      "2020-02-18 23:24:10,885 Stage-1 map = 0%,  reduce = 0%\n",
      "2020-02-18 23:24:22,182 Stage-1 map = 100%,  reduce = 0%, Cumulative CPU 3.48 sec\n",
      "MapReduce Total cumulative CPU time: 3 seconds 480 msec\n",
      "Ended Job = job_1582053079980_0038\n",
      "Stage-3 is selected by condition resolver.\n",
      "Stage-2 is filtered out by condition resolver.\n",
      "Stage-4 is filtered out by condition resolver.\n",
      "Moving data to directory hdfs://0.0.0.0:9000/tmp/output/.hive-staging_hive_2020-02-18_23-23-51_285_3722863207361951682-1/-ext-10000\n",
      "Moving data to directory /tmp/output\n",
      "MapReduce Jobs Launched: \n",
      "Stage-Stage-1: Map: 1   Cumulative CPU: 3.48 sec   HDFS Read: 4226 HDFS Write: 573 SUCCESS\n",
      "Total MapReduce CPU Time Spent: 3 seconds 480 msec\n",
      "OK\n",
      "Time taken: 32.381 seconds\n"
     ]
    }
   ],
   "source": [
    "%%hive\n",
    "INSERT OVERWRITE DIRECTORY '/tmp/output'\n",
    "ROW FORMAT DELIMITED FIELDS TERMINATED BY ','\n",
    "SELECT * FROM cant_let_clav;"
   ]
  },
  {
   "cell_type": "code",
   "execution_count": 13,
   "metadata": {},
   "outputs": [
    {
     "name": "stdout",
     "output_type": "stream",
     "text": [
      "SLF4J: Class path contains multiple SLF4J bindings.\n",
      "SLF4J: Found binding in [jar:file:/usr/local/hive/lib/log4j-slf4j-impl-2.6.2.jar!/org/slf4j/impl/StaticLoggerBinder.class]\n",
      "SLF4J: Found binding in [jar:file:/usr/local/hadoop/share/hadoop/common/lib/slf4j-log4j12-1.7.10.jar!/org/slf4j/impl/StaticLoggerBinder.class]\n",
      "SLF4J: See http://www.slf4j.org/codes.html#multiple_bindings for an explanation.\n",
      "SLF4J: Actual binding is of type [org.apache.logging.slf4j.Log4jLoggerFactory]\n",
      "File: output.hql is not a file.\n"
     ]
    }
   ],
   "source": [
    "!hive -S -e 'source output.hql'"
   ]
  },
  {
   "cell_type": "code",
   "execution_count": 14,
   "metadata": {},
   "outputs": [
    {
     "name": "stdout",
     "output_type": "stream",
     "text": [
      "output/000000_0\n"
     ]
    }
   ],
   "source": [
    "!hadoop fs -copyToLocal /tmp/output output\n",
    "!ls output/*"
   ]
  },
  {
   "cell_type": "code",
   "execution_count": 15,
   "metadata": {},
   "outputs": [
    {
     "name": "stdout",
     "output_type": "stream",
     "text": [
      "a,aaa,5\n",
      "a,bbb,7\n",
      "a,ccc,13\n",
      "a,ddd,13\n",
      "a,eee,7\n",
      "a,fff,10\n",
      "a,ggg,8\n",
      "a,hhh,8\n",
      "a,iii,7\n",
      "a,jjj,10\n",
      "b,aaa,4\n",
      "b,bbb,7\n",
      "b,ccc,5\n",
      "b,ddd,7\n",
      "b,eee,5\n",
      "b,fff,8\n",
      "b,ggg,4\n",
      "b,hhh,7\n",
      "b,iii,7\n",
      "b,jjj,5\n",
      "c,aaa,5\n",
      "c,bbb,4\n",
      "c,ccc,12\n",
      "c,ddd,9\n",
      "c,eee,6\n",
      "c,fff,8\n",
      "c,ggg,7\n",
      "c,hhh,7\n",
      "c,iii,8\n",
      "c,jjj,8\n",
      "d,aaa,4\n",
      "d,bbb,6\n",
      "d,ccc,7\n",
      "d,ddd,5\n",
      "d,eee,6\n",
      "d,fff,8\n",
      "d,ggg,6\n",
      "d,hhh,4\n",
      "d,iii,9\n",
      "d,jjj,8\n",
      "e,aaa,3\n",
      "e,bbb,8\n",
      "e,ccc,9\n",
      "e,ddd,7\n",
      "e,eee,7\n",
      "e,fff,9\n",
      "e,ggg,4\n",
      "e,hhh,4\n",
      "e,iii,8\n",
      "e,jjj,3\n",
      "f,aaa,8\n",
      "f,bbb,10\n",
      "f,ccc,13\n",
      "f,ddd,17\n",
      "f,eee,11\n",
      "f,fff,11\n",
      "f,ggg,9\n",
      "f,hhh,10\n",
      "f,iii,10\n",
      "f,jjj,12\n",
      "g,aaa,3\n",
      "g,bbb,3\n",
      "g,ccc,6\n",
      "g,ddd,5\n",
      "g,eee,4\n",
      "g,fff,5\n",
      "g,ggg,4\n",
      "g,hhh,3\n",
      "g,iii,4\n",
      "g,jjj,6\n"
     ]
    }
   ],
   "source": [
    "!cat output/000000_0"
   ]
  },
  {
   "cell_type": "code",
   "execution_count": null,
   "metadata": {},
   "outputs": [],
   "source": []
  }
 ],
 "metadata": {
  "kernelspec": {
   "display_name": "Python 3",
   "language": "python",
   "name": "python3"
  },
  "language_info": {
   "codemirror_mode": {
    "name": "ipython",
    "version": 3
   },
   "file_extension": ".py",
   "mimetype": "text/x-python",
   "name": "python",
   "nbconvert_exporter": "python",
   "pygments_lexer": "ipython3",
   "version": "3.6.9"
  }
 },
 "nbformat": 4,
 "nbformat_minor": 4
}
